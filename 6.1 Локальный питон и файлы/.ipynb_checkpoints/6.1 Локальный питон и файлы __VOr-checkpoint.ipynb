{
 "cells": [
  {
   "cell_type": "code",
   "execution_count": 1,
   "metadata": {
    "ExecuteTime": {
     "end_time": "2022-10-31T13:14:00.419916Z",
     "start_time": "2022-10-31T13:14:00.397347Z"
    }
   },
   "outputs": [
    {
     "name": "stdout",
     "output_type": "stream",
     "text": [
      "20 October 2017\n",
      "31 January 2021\n",
      "05 August 2015\n"
     ]
    }
   ],
   "source": [
    "# Задание 3\n",
    "\n",
    "from datetime import date\n",
    "\n",
    "date_1 = date(2017, 10, 20)\n",
    "date_2 = date(2021, 1, 31)\n",
    "date_3 = date(2015, 8, 5)\n",
    "\n",
    "# Не удаляйте код дальше, он нужен для проверки\n",
    "\n",
    "format_ = \"%d %B %Y\"\n",
    "\n",
    "print(date_1.strftime(format_))\n",
    "print(date_2.strftime(format_))\n",
    "print(date_3.strftime(format_))\n"
   ]
  },
  {
   "cell_type": "code",
   "execution_count": 2,
   "metadata": {},
   "outputs": [
    {
     "name": "stdout",
     "output_type": "stream",
     "text": [
      "15:15\n",
      "20:00\n",
      "23:00\n"
     ]
    }
   ],
   "source": [
    "# Задание 5\n",
    "\n",
    "from datetime import time\n",
    "\n",
    "time_1 = time(15, 15)\n",
    "time_2 = time(20, 00)\n",
    "time_3 = time(23, 00)\n",
    "\n",
    "# Не удаляйте код дальше, он нужен для проверки\n",
    "\n",
    "format_ = \"%H:%M\"\n",
    "\n",
    "print(time_1.strftime(format_))\n",
    "print(time_2.strftime(format_))\n",
    "print(time_3.strftime(format_))\n"
   ]
  },
  {
   "cell_type": "code",
   "execution_count": 3,
   "metadata": {},
   "outputs": [
    {
     "name": "stdout",
     "output_type": "stream",
     "text": [
      "2027\n",
      "10\n",
      "5\n"
     ]
    }
   ],
   "source": [
    "# Задание 6\n",
    "\n",
    "from datetime import date\n",
    "\n",
    "the_date = date(2027, 10, 5)\n",
    "\n",
    "print(the_date.year)\n",
    "print(the_date.month)\n",
    "print(the_date.day)\n"
   ]
  },
  {
   "cell_type": "code",
   "execution_count": 4,
   "metadata": {},
   "outputs": [
    {
     "name": "stdout",
     "output_type": "stream",
     "text": [
      "05 October of 2027\n"
     ]
    }
   ],
   "source": [
    "# Задание 7\n",
    "\n",
    "from datetime import date\n",
    "\n",
    "the_date = date(2027, 10, 5)\n",
    "\n",
    "print(the_date.strftime(\"%d %B of %Y\"))\n"
   ]
  }
 ],
 "metadata": {
  "kernelspec": {
   "display_name": "Python 3 (ipykernel)",
   "language": "python",
   "name": "python3"
  },
  "language_info": {
   "codemirror_mode": {
    "name": "ipython",
    "version": 3
   },
   "file_extension": ".py",
   "mimetype": "text/x-python",
   "name": "python",
   "nbconvert_exporter": "python",
   "pygments_lexer": "ipython3",
   "version": "3.9.13"
  }
 },
 "nbformat": 4,
 "nbformat_minor": 1
}
