{
 "cells": [
  {
   "cell_type": "code",
   "execution_count": 16,
   "id": "42720f9a",
   "metadata": {
    "ExecuteTime": {
     "end_time": "2022-10-05T08:24:02.650800Z",
     "start_time": "2022-10-05T08:23:53.827389Z"
    }
   },
   "outputs": [
    {
     "name": "stdout",
     "output_type": "stream",
     "text": [
      "Привет! Предлагаю проверить свои знания английского!\n",
      "\n",
      "Расскажи, как тебя зовут!\n",
      "123\n",
      "\n",
      "Привет, 123, начинаем тренировку!\n",
      "\n",
      "My name ___ Vova\n",
      "is\n",
      "Ответ верный! \n",
      "Вы получаете 10 баллов!\n",
      "\n",
      "I ___ a coder\n",
      "am\n",
      "Ответ верный! \n",
      "Вы получаете 10 баллов!\n",
      "\n",
      "I live ___ Moscow\n",
      "in\n",
      "Ответ верный! \n",
      "Вы получаете 10 баллов!\n",
      "\n",
      "Вот и все, 123! \n",
      "Вы ответили на 3 вопросов из 3 верно.\n",
      "\n",
      "Вы заработали 30 баллов. Это 100 процентов.\n"
     ]
    }
   ],
   "source": [
    "counter = 0\n",
    "total_questions = 3\n",
    "\n",
    "print(\"Привет! Предлагаю проверить свои знания английского!\\n\")\n",
    "user_name = input(\"Расскажи, как тебя зовут!\\n\")\n",
    "print(f\"\\nПривет, {user_name}, начинаем тренировку!\")\n",
    "\n",
    "# первый вопрос \n",
    "print(\"\\nMy name ___ Vova\")\n",
    "user_answer = input()\n",
    "\n",
    "if user_answer == \"is\":\n",
    "    print(\"Ответ верный! \\nВы получаете 10 баллов!\")\n",
    "    counter += 1\n",
    "else:\n",
    "    print(\"Неправильно. \\nПравильный ответ: is\")\n",
    "\n",
    "# второй вопрос \n",
    "print(\"\\nI ___ a coder\")\n",
    "user_answer = input()\n",
    "\n",
    "if user_answer == \"am\":\n",
    "    print(\"Ответ верный! \\nВы получаете 10 баллов!\")\n",
    "    counter += 1\n",
    "else:\n",
    "    print(\"Неправильно. \\nПравильный ответ: am\")\n",
    "\n",
    "# третий вопрос\n",
    "print(\"\\nI live ___ Moscow\")\n",
    "user_answer = input()\n",
    "\n",
    "if user_answer == \"in\":\n",
    "    print(\"Ответ верный! \\nВы получаете 10 баллов!\")\n",
    "    counter += 1\n",
    "else:\n",
    "    print(\"Неправильно. \\nПравильный ответ: in\")\n",
    "\n",
    "# баллы\n",
    "scored = counter * 10\n",
    "\n",
    "# процент правильных ответов\n",
    "correct_answers_percent = 100 * counter / total_questions\n",
    "\n",
    "# выводим результаты пройденной тренировки\n",
    "print(f\"\\nВот и все, {user_name}! \\nВы ответили на {counter} вопросов из 3 верно.\\n\")\n",
    "print(f\"Вы заработали {scored} баллов. Это {correct_answers_percent:.0f} процентов.\")"
   ]
  },
  {
   "cell_type": "code",
   "execution_count": null,
   "id": "5ffd3fd1",
   "metadata": {},
   "outputs": [],
   "source": []
  }
 ],
 "metadata": {
  "kernelspec": {
   "display_name": "Python 3 (ipykernel)",
   "language": "python",
   "name": "python3"
  },
  "language_info": {
   "codemirror_mode": {
    "name": "ipython",
    "version": 3
   },
   "file_extension": ".py",
   "mimetype": "text/x-python",
   "name": "python",
   "nbconvert_exporter": "python",
   "pygments_lexer": "ipython3",
   "version": "3.9.12"
  }
 },
 "nbformat": 4,
 "nbformat_minor": 5
}
