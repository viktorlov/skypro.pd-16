{
 "cells": [
  {
   "cell_type": "code",
   "execution_count": 4,
   "metadata": {
    "collapsed": true
   },
   "outputs": [
    {
     "name": "stdout",
     "output_type": "stream",
     "text": [
      "Питомир движется 50 метров на север\n",
      "Питомир движется 10 метров на запад\n",
      "Питомир движется непонятно куда\n",
      "Багуня движется 50 метров на север\n",
      "Багуня движется 10 метров на запад\n",
      "Питомир движется непонятно куда\n"
     ]
    }
   ],
   "source": [
    "# task 8\n",
    "\n",
    "class Character():\n",
    "\n",
    "    def __init__(self, name):\n",
    "        self.name = name\n",
    "\n",
    "    def move(self, direction, distance):\n",
    "\n",
    "        directions_list = {\"north\": \"на север\", \"south\": \"на юг\", \"west\": \"на запад\", \"east\": \"на восток\"}\n",
    "        if direction not in directions_list.keys():\n",
    "            print(self.name, \"движется непонятно куда\")\n",
    "        else:\n",
    "            print(self.name, \"движется\", distance, \"метров\", directions_list[direction])\n",
    "\n",
    "\n",
    "class Hero(Character):\n",
    "    pass\n",
    "\n",
    "\n",
    "class Enemy(Character):\n",
    "    pass\n",
    "\n",
    "\n",
    "pythomir = Hero(\"Питомир\")\n",
    "bugoonya = Enemy(\"Багуня\")\n",
    "\n",
    "pythomir.move(\"north\", 50)\n",
    "pythomir.move(\"west\", 10)\n",
    "pythomir.move(\"climb\", 0)\n",
    "\n",
    "bugoonya.move(\"north\", 50)\n",
    "bugoonya.move(\"west\", 10)\n",
    "pythomir.move(\"climb\", 0)\n",
    "\n",
    "# Не удаляйте код ниже, это проверка!\n",
    "\n",
    "if not 'Character' in dir():\n",
    "    print(\"Общий класс родитель Character не создан\")\n",
    "\n",
    "if not hasattr(Character, \"move\"):\n",
    "    print(\"У общего класса отсутствует метод move\")"
   ]
  },
  {
   "cell_type": "code",
   "execution_count": 5,
   "outputs": [
    {
     "name": "stdout",
     "output_type": "stream",
     "text": [
      "я кусаюсь\n",
      "я дышу огнем\n"
     ]
    }
   ],
   "source": [
    "# task 9\n",
    "\n",
    "class Enemy():\n",
    "\n",
    "    def __init__(self, name, health):\n",
    "        self.is_alive = True;\n",
    "        self.name = name\n",
    "        self.health = health\n",
    "\n",
    "\n",
    "class Dragon(Enemy):\n",
    "\n",
    "    def bite(self):\n",
    "        print('я кусаюсь')\n",
    "\n",
    "    def burn(self):\n",
    "        print('я дышу огнем')\n",
    "\n",
    "\n",
    "dragon = Dragon(\"Инхеритий Проворный\", 300)\n",
    "\n",
    "# Не удаляйте код ниже, это проверка!\n",
    "\n",
    "dragon.bite()\n",
    "dragon.burn()"
   ],
   "metadata": {
    "collapsed": false
   }
  },
  {
   "cell_type": "code",
   "execution_count": 8,
   "outputs": [
    {
     "name": "stdout",
     "output_type": "stream",
     "text": [
      "Герой Питомир взял с собой меч, плащ, шляпа\n"
     ]
    }
   ],
   "source": [
    "# task 10\n",
    "\n",
    "class Hero():\n",
    "\n",
    "    def __init__(self, name, posessions):\n",
    "        self.name = name\n",
    "        self.posessions = posessions\n",
    "\n",
    "    def __repr__(self):\n",
    "        return (f\"Герой {self.name} взял с собой {', '.join(self.posessions)}\")\n",
    "\n",
    "\n",
    "# Не удаляйте кед ниже, он нужен для проверки\n",
    "\n",
    "hero = Hero(\"Питомир\", [\"меч\", \"плащ\", \"шляпа\"])\n",
    "print(hero)"
   ],
   "metadata": {
    "collapsed": false
   }
  },
  {
   "cell_type": "code",
   "execution_count": 11,
   "outputs": [
    {
     "name": "stdout",
     "output_type": "stream",
     "text": [
      "Это похоже на ящик размером 50x30 и весом 2кг\n",
      "В ящике размером 50x30 и весом 2кг оказалось 7 золотых монет\n"
     ]
    }
   ],
   "source": [
    "# task 12\n",
    "\n",
    "class Box():\n",
    "    def __init__(self, size, weight, contains):\n",
    "        self.size = size\n",
    "        self.weight = weight\n",
    "        self.contains = contains\n",
    "\n",
    "    def observe(self):\n",
    "        return f\"Это похоже на ящик размером {self.size} и весом {self.weight}кг\"\n",
    "\n",
    "\n",
    "class Container(Box):\n",
    "    def open(self):\n",
    "        return f\"В ящике размером {self.size} и весом {self.weight}кг оказалось {self.contains}\"\n",
    "\n",
    "\n",
    "box_1 = Box(\"30x30\", \"1\", \"15 золотых монет\")\n",
    "container_1 = Container(\"50x30\", \"2\", \"7 золотых монет\")\n",
    "\n",
    "# Код проверки, не удаляйте его\n",
    "\n",
    "try:\n",
    "    Box\n",
    "except:\n",
    "    print(\"Класс Box не задан\")\n",
    "try:\n",
    "    Container\n",
    "except:\n",
    "    print(\"Класс Container не задан\")\n",
    "try:\n",
    "    Container.open\n",
    "except:\n",
    "    print(\"Метод open у Container не задан или с ошибкой\")\n",
    "try:\n",
    "    Container.observe\n",
    "except:\n",
    "    print(\"Метод observe у Container не наследуется или с ошибкой\")\n",
    "try:\n",
    "    box_1\n",
    "except:\n",
    "    print(\"Экземпляр box_1 не существует\")\n",
    "try:\n",
    "    container_1\n",
    "except:\n",
    "    print(\"Экземпляр container_1 не существует\")\n",
    "\n",
    "print(container_1.observe())\n",
    "print(container_1.open())"
   ],
   "metadata": {
    "collapsed": false
   }
  }
 ],
 "metadata": {
  "kernelspec": {
   "display_name": "Python 3",
   "language": "python",
   "name": "python3"
  },
  "language_info": {
   "codemirror_mode": {
    "name": "ipython",
    "version": 2
   },
   "file_extension": ".py",
   "mimetype": "text/x-python",
   "name": "python",
   "nbconvert_exporter": "python",
   "pygments_lexer": "ipython2",
   "version": "2.7.6"
  }
 },
 "nbformat": 4,
 "nbformat_minor": 0
}
