{
 "cells": [
  {
   "cell_type": "code",
   "execution_count": 4,
   "outputs": [],
   "source": [
    "import pandas as pd"
   ],
   "metadata": {
    "collapsed": false
   }
  },
  {
   "cell_type": "code",
   "execution_count": 5,
   "outputs": [],
   "source": [
    "df = pd.read_csv('df.csv', sep=';')"
   ],
   "metadata": {
    "collapsed": false
   }
  },
  {
   "cell_type": "code",
   "execution_count": 6,
   "outputs": [
    {
     "data": {
      "text/plain": "          name     cat  kcal\n0  Аpple green   fruit    45\n1    Apple red   fruit    49\n2       Banana   fruit    95\n3      Avocado   fruit   160\n4       Tomato  veggie    20\n5     Broccoli  veggie    34\n6       Carrot  veggie   100\n7       Cookie  sweets   514\n8        Donut  sweets   300\n9         Cake  sweets   400",
      "text/html": "<div>\n<style scoped>\n    .dataframe tbody tr th:only-of-type {\n        vertical-align: middle;\n    }\n\n    .dataframe tbody tr th {\n        vertical-align: top;\n    }\n\n    .dataframe thead th {\n        text-align: right;\n    }\n</style>\n<table border=\"1\" class=\"dataframe\">\n  <thead>\n    <tr style=\"text-align: right;\">\n      <th></th>\n      <th>name</th>\n      <th>cat</th>\n      <th>kcal</th>\n    </tr>\n  </thead>\n  <tbody>\n    <tr>\n      <th>0</th>\n      <td>Аpple green</td>\n      <td>fruit</td>\n      <td>45</td>\n    </tr>\n    <tr>\n      <th>1</th>\n      <td>Apple red</td>\n      <td>fruit</td>\n      <td>49</td>\n    </tr>\n    <tr>\n      <th>2</th>\n      <td>Banana</td>\n      <td>fruit</td>\n      <td>95</td>\n    </tr>\n    <tr>\n      <th>3</th>\n      <td>Avocado</td>\n      <td>fruit</td>\n      <td>160</td>\n    </tr>\n    <tr>\n      <th>4</th>\n      <td>Tomato</td>\n      <td>veggie</td>\n      <td>20</td>\n    </tr>\n    <tr>\n      <th>5</th>\n      <td>Broccoli</td>\n      <td>veggie</td>\n      <td>34</td>\n    </tr>\n    <tr>\n      <th>6</th>\n      <td>Carrot</td>\n      <td>veggie</td>\n      <td>100</td>\n    </tr>\n    <tr>\n      <th>7</th>\n      <td>Cookie</td>\n      <td>sweets</td>\n      <td>514</td>\n    </tr>\n    <tr>\n      <th>8</th>\n      <td>Donut</td>\n      <td>sweets</td>\n      <td>300</td>\n    </tr>\n    <tr>\n      <th>9</th>\n      <td>Cake</td>\n      <td>sweets</td>\n      <td>400</td>\n    </tr>\n  </tbody>\n</table>\n</div>"
     },
     "execution_count": 6,
     "metadata": {},
     "output_type": "execute_result"
    }
   ],
   "source": [
    "df"
   ],
   "metadata": {
    "collapsed": false
   }
  },
  {
   "cell_type": "code",
   "execution_count": 9,
   "outputs": [],
   "source": [
    "dfd = df.to_dict('records',)"
   ],
   "metadata": {
    "collapsed": false
   }
  },
  {
   "cell_type": "code",
   "execution_count": 10,
   "outputs": [
    {
     "data": {
      "text/plain": "[{'name': 'Аpple green', 'cat': 'fruit', 'kcal': 45},\n {'name': 'Apple red', 'cat': 'fruit', 'kcal': 49},\n {'name': 'Banana', 'cat': 'fruit', 'kcal': 95},\n {'name': 'Avocado', 'cat': 'fruit', 'kcal': 160},\n {'name': 'Tomato', 'cat': 'veggie', 'kcal': 20},\n {'name': 'Broccoli', 'cat': 'veggie', 'kcal': 34},\n {'name': 'Carrot', 'cat': 'veggie', 'kcal': 100},\n {'name': 'Cookie', 'cat': 'sweets', 'kcal': 514},\n {'name': 'Donut', 'cat': 'sweets', 'kcal': 300},\n {'name': 'Cake', 'cat': 'sweets', 'kcal': 400}]"
     },
     "execution_count": 10,
     "metadata": {},
     "output_type": "execute_result"
    }
   ],
   "source": [
    "dfd"
   ],
   "metadata": {
    "collapsed": false
   }
  },
  {
   "cell_type": "code",
   "execution_count": 6,
   "outputs": [],
   "source": [],
   "metadata": {
    "collapsed": false
   }
  },
  {
   "cell_type": "code",
   "execution_count": 6,
   "outputs": [],
   "source": [],
   "metadata": {
    "collapsed": false
   }
  }
 ],
 "metadata": {
  "kernelspec": {
   "display_name": "Python 3",
   "language": "python",
   "name": "python3"
  },
  "language_info": {
   "codemirror_mode": {
    "name": "ipython",
    "version": 2
   },
   "file_extension": ".py",
   "mimetype": "text/x-python",
   "name": "python",
   "nbconvert_exporter": "python",
   "pygments_lexer": "ipython2",
   "version": "2.7.6"
  }
 },
 "nbformat": 4,
 "nbformat_minor": 0
}
