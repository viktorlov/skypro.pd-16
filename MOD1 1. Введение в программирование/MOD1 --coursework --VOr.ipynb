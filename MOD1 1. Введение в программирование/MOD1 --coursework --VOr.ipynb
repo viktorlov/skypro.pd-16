{
 "cells": [
  {
   "cell_type": "code",
   "execution_count": 13,
   "id": "33f793ff",
   "metadata": {
    "ExecuteTime": {
     "end_time": "2022-10-19T11:05:04.509268Z",
     "start_time": "2022-10-19T11:05:04.504266Z"
    }
   },
   "outputs": [],
   "source": [
    "import json\n",
    "import random"
   ]
  },
  {
   "cell_type": "code",
   "execution_count": 14,
   "id": "82dcbb54",
   "metadata": {
    "ExecuteTime": {
     "end_time": "2022-10-19T11:05:05.266329Z",
     "start_time": "2022-10-19T11:05:04.791281Z"
    }
   },
   "outputs": [],
   "source": [
    "### json-файл с кодировкой абзуки Морзе ###\n",
    "import requests\n",
    "url = 'https://gist.githubusercontent.com/mohayonao/094c71af14fe4791c5dd/raw/8399262545d0d88507ce42069b0b50043f0eddbc/morse-code.json'\n",
    "morse_code = json.loads(requests.get(url).text)"
   ]
  },
  {
   "cell_type": "code",
   "execution_count": 3,
   "id": "34f643d1",
   "metadata": {
    "ExecuteTime": {
     "end_time": "2022-10-18T14:39:07.852121Z",
     "start_time": "2022-10-18T14:39:07.836495Z"
    }
   },
   "outputs": [],
   "source": [
    "### список английский слов для кодировки ###\n",
    "\n",
    "word_list = ['snake', 'rainbow', 'twin', 'fish', 'moon']"
   ]
  },
  {
   "cell_type": "code",
   "execution_count": 4,
   "id": "1ffebe13",
   "metadata": {
    "ExecuteTime": {
     "end_time": "2022-10-18T14:39:07.868362Z",
     "start_time": "2022-10-18T14:39:07.852737Z"
    }
   },
   "outputs": [],
   "source": [
    "def morse_encode(word):\n",
    "    '''\n",
    "    функция для кодировки английских слов (и фраз) в азбуку Морзе\n",
    "    '''\n",
    "    return ' '.join([morse_code[l.lower()] if l != ' ' else ' ' for l in str(word)])"
   ]
  },
  {
   "cell_type": "code",
   "execution_count": 5,
   "id": "72f8125b",
   "metadata": {
    "ExecuteTime": {
     "end_time": "2022-10-18T14:39:07.885114Z",
     "start_time": "2022-10-18T14:39:07.869488Z"
    }
   },
   "outputs": [
    {
     "name": "stdout",
     "output_type": "stream",
     "text": [
      "snake ... -. .- -.- .\n",
      "rainbow .-. .- .. -. -... --- .--\n",
      "twin - .-- .. -.\n",
      "fish ..-. .. ... ....\n",
      "moon -- --- --- -.\n"
     ]
    }
   ],
   "source": [
    "### шпаргалка ###\n",
    "\n",
    "for word in word_list:\n",
    "    print(word, morse_encode(word))"
   ]
  },
  {
   "cell_type": "code",
   "execution_count": 9,
   "id": "bf521bbb",
   "metadata": {
    "ExecuteTime": {
     "end_time": "2022-10-18T14:50:35.702214Z",
     "start_time": "2022-10-18T14:50:35.695214Z"
    }
   },
   "outputs": [],
   "source": [
    "def get_word():\n",
    "    '''\n",
    "    функция для выбора случайного слова из списка ___word_list___\n",
    "    '''\n",
    "    return random.choice(word_list)"
   ]
  },
  {
   "cell_type": "code",
   "execution_count": 10,
   "id": "d42f53cc",
   "metadata": {
    "ExecuteTime": {
     "end_time": "2022-10-18T14:50:38.486867Z",
     "start_time": "2022-10-18T14:50:38.474867Z"
    }
   },
   "outputs": [],
   "source": [
    "def print_statistics(answers):\n",
    "    '''\n",
    "    функция для печати статистики ответов из списка __answers__\n",
    "    '''\n",
    "    print(f'Всего задачек: {len(answers)}')\n",
    "    print(f'Отвечено верно: {answers.count(1)}')\n",
    "    print(f'Отвечено неверно: {answers.count(0)}')\n",
    "    print(f'\\nЭто фиаско, братан...') if not answers.count(1) else ''\n",
    "    print(f'\\nHello, Mr. Samuel Finley Breese Morse! Welcome!') if not answers.count(0) else ''"
   ]
  },
  {
   "cell_type": "code",
   "execution_count": 11,
   "id": "227f689d",
   "metadata": {
    "ExecuteTime": {
     "end_time": "2022-10-18T14:50:45.001894Z",
     "start_time": "2022-10-18T14:50:38.925307Z"
    }
   },
   "outputs": [
    {
     "name": "stdout",
     "output_type": "stream",
     "text": [
      "Сегодня мы потренируемся расшифровывать азбуку Морзе\n",
      "Нажмите Enter и начнем\n",
      "\n",
      "Слово 1 ... -. .- -.- .   3\n",
      "Неверно! Это snake\n",
      "\n",
      "Слово 2 - .-- .. -.   3\n",
      "Неверно! Это twin\n",
      "\n",
      "Слово 3 ..-. .. ... ....   3\n",
      "Неверно! Это fish\n",
      "\n",
      "Слово 4 ..-. .. ... ....   3\n",
      "Неверно! Это fish\n",
      "\n",
      "Слово 5 .-. .- .. -. -... --- .--   3\n",
      "Неверно! Это rainbow\n",
      "\n",
      "Всего задачек: 5\n",
      "Отвечено верно: 0\n",
      "Отвечено неверно: 5\n",
      "\n",
      "Это фиаско, братан...\n"
     ]
    }
   ],
   "source": [
    "*iter, = range(5)\n",
    "input('Сегодня мы потренируемся расшифровывать азбуку Морзе\\nНажмите Enter и начнем\\n')\n",
    "answers = []\n",
    "for i in iter:\n",
    "    word_to_code = get_word()\n",
    "    code_of_word = morse_encode(word_to_code)\n",
    "    user_try = input(f'Слово {i+1} {code_of_word}   ')\n",
    "    if user_try == word_to_code:\n",
    "        print(f'Верно!\\n')\n",
    "        answers.append(True)\n",
    "    else:\n",
    "        print(f'Неверно! Это {word_to_code}\\n')\n",
    "        answers.append(False)\n",
    "print_statistics(answers)"
   ]
  },
  {
   "cell_type": "code",
   "execution_count": null,
   "id": "20addea1",
   "metadata": {},
   "outputs": [],
   "source": []
  }
 ],
 "metadata": {
  "kernelspec": {
   "display_name": "Python 3 (ipykernel)",
   "language": "python",
   "name": "python3"
  },
  "language_info": {
   "codemirror_mode": {
    "name": "ipython",
    "version": 3
   },
   "file_extension": ".py",
   "mimetype": "text/x-python",
   "name": "python",
   "nbconvert_exporter": "python",
   "pygments_lexer": "ipython3",
   "version": "3.9.13"
  }
 },
 "nbformat": 4,
 "nbformat_minor": 5
}
