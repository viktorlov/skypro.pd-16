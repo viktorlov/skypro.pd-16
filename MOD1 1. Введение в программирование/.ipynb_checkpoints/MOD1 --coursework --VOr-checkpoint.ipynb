{
 "cells": [
  {
   "cell_type": "code",
   "execution_count": 1,
   "id": "33f793ff",
   "metadata": {
    "ExecuteTime": {
     "end_time": "2022-10-17T13:46:38.101346Z",
     "start_time": "2022-10-17T13:46:38.086356Z"
    }
   },
   "outputs": [],
   "source": [
    "import json\n",
    "import random"
   ]
  },
  {
   "cell_type": "code",
   "execution_count": 2,
   "id": "82dcbb54",
   "metadata": {
    "ExecuteTime": {
     "end_time": "2022-10-17T13:46:38.118607Z",
     "start_time": "2022-10-17T13:46:38.102984Z"
    }
   },
   "outputs": [],
   "source": [
    "### json-файл с кодировкой абзуки Морзе ###\n",
    "\n",
    "morse_code = json.load(open('morse-code.json'))"
   ]
  },
  {
   "cell_type": "code",
   "execution_count": 3,
   "id": "34f643d1",
   "metadata": {
    "ExecuteTime": {
     "end_time": "2022-10-17T13:46:38.135914Z",
     "start_time": "2022-10-17T13:46:38.120296Z"
    }
   },
   "outputs": [],
   "source": [
    "### список английский слов для кодировки ###\n",
    "\n",
    "word_list = ['snake', 'rainbow', 'twin', 'fish', 'moon']"
   ]
  },
  {
   "cell_type": "code",
   "execution_count": 8,
   "id": "72f8125b",
   "metadata": {
    "ExecuteTime": {
     "end_time": "2022-10-17T13:46:44.942254Z",
     "start_time": "2022-10-17T13:46:44.926474Z"
    }
   },
   "outputs": [
    {
     "name": "stdout",
     "output_type": "stream",
     "text": [
      "snake ... -. .- -.- .\n",
      "rainbow .-. .- .. -. -... --- .--\n",
      "twin - .-- .. -.\n",
      "fish ..-. .. ... ....\n",
      "moon -- --- --- -.\n"
     ]
    }
   ],
   "source": [
    "### шпаргалка ### \n",
    "for word in word_list:\n",
    "    print(word, morse_encode(word))"
   ]
  },
  {
   "cell_type": "code",
   "execution_count": 4,
   "id": "1ffebe13",
   "metadata": {
    "ExecuteTime": {
     "end_time": "2022-10-17T13:46:38.152576Z",
     "start_time": "2022-10-17T13:46:38.137925Z"
    }
   },
   "outputs": [],
   "source": [
    "def morse_encode(word):\n",
    "    '''\n",
    "    функция для кодировки английских слов (и фраз) в азбуку Морзе\n",
    "    '''\n",
    "    return ' '.join([morse_code[l.lower()] if l != ' ' else ' ' for l in str(word)])"
   ]
  },
  {
   "cell_type": "code",
   "execution_count": 5,
   "id": "bf521bbb",
   "metadata": {
    "ExecuteTime": {
     "end_time": "2022-10-17T13:46:38.168737Z",
     "start_time": "2022-10-17T13:46:38.153116Z"
    }
   },
   "outputs": [],
   "source": [
    "def get_word():\n",
    "    '''\n",
    "    функция для выбора случайного слова из списка ___word_list___\n",
    "    '''\n",
    "    return random.sample(word_list, 1)[0]"
   ]
  },
  {
   "cell_type": "code",
   "execution_count": 6,
   "id": "d42f53cc",
   "metadata": {
    "ExecuteTime": {
     "end_time": "2022-10-17T13:46:38.185829Z",
     "start_time": "2022-10-17T13:46:38.170211Z"
    }
   },
   "outputs": [],
   "source": [
    "def print_statistics(answers):\n",
    "    '''\n",
    "    функция для печати статистики ответов из списка __answers__\n",
    "    '''\n",
    "    print(f'Всего задачек: {len(answers)}')\n",
    "    print(f'Отвечено верно: {answers.count(1)}')\n",
    "    print(f'Отвечено неверно: {answers.count(0)}')\n",
    "    print('Это фиаско, братан...') if not answers.count(1) else ''\n",
    "    print('Hello, Mr. Samuel Finley Breese Morse! Welcome!') if not answers.count(0) else ''"
   ]
  },
  {
   "cell_type": "code",
   "execution_count": 7,
   "id": "227f689d",
   "metadata": {
    "ExecuteTime": {
     "end_time": "2022-10-17T13:46:44.926474Z",
     "start_time": "2022-10-17T13:46:38.188122Z"
    }
   },
   "outputs": [
    {
     "name": "stdout",
     "output_type": "stream",
     "text": [
      "Сегодня мы потренируемся расшифровывать азбуку Морзе\n",
      "Нажмите Enter и начнем\n",
      "\n",
      "Слово 1 ... -. .- -.- .   1\n",
      "Неверно! Это snake\n",
      "\n",
      "Слово 2 - .-- .. -.   2\n",
      "Неверно! Это twin\n",
      "\n",
      "Слово 3 -- --- --- -.   3\n",
      "Неверно! Это moon\n",
      "\n",
      "Слово 4 - .-- .. -.   4\n",
      "Неверно! Это twin\n",
      "\n",
      "Слово 5 -- --- --- -.   5\n",
      "Неверно! Это moon\n",
      "\n",
      "Всего задачек: 5\n",
      "Отвечено верно: 0\n",
      "Отвечено неверно: 5\n",
      "Это фиаско, братан...\n"
     ]
    }
   ],
   "source": [
    "*iter, = range(5)\n",
    "input('Сегодня мы потренируемся расшифровывать азбуку Морзе\\nНажмите Enter и начнем\\n')\n",
    "answers = []\n",
    "for i in iter:\n",
    "    word_to_code = get_word()\n",
    "    code_of_word = morse_encode(word_to_code)\n",
    "    user_try = input(f'Слово {i+1} {code_of_word}   ')\n",
    "    if user_try == word_to_code:\n",
    "        print(f'Верно!\\n')\n",
    "        answers.append(True)\n",
    "    else:\n",
    "        print(f'Неверно! Это {word_to_code}\\n')\n",
    "        answers.append(False)\n",
    "print_statistics(answers)"
   ]
  },
  {
   "cell_type": "code",
   "execution_count": null,
   "id": "20addea1",
   "metadata": {},
   "outputs": [],
   "source": []
  }
 ],
 "metadata": {
  "kernelspec": {
   "display_name": "Python 3 (ipykernel)",
   "language": "python",
   "name": "python3"
  },
  "language_info": {
   "codemirror_mode": {
    "name": "ipython",
    "version": 3
   },
   "file_extension": ".py",
   "mimetype": "text/x-python",
   "name": "python",
   "nbconvert_exporter": "python",
   "pygments_lexer": "ipython3",
   "version": "3.9.12"
  }
 },
 "nbformat": 4,
 "nbformat_minor": 5
}
