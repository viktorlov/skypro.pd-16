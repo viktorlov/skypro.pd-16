{
 "cells": [
  {
   "cell_type": "code",
   "execution_count": 2,
   "id": "4082f824",
   "metadata": {
    "ExecuteTime": {
     "end_time": "2022-10-13T11:55:09.921331Z",
     "start_time": "2022-10-13T11:55:08.490659Z"
    }
   },
   "outputs": [
    {
     "name": "stdout",
     "output_type": "stream",
     "text": [
      "Булочки с яблоком\n",
      "4\n"
     ]
    }
   ],
   "source": [
    "### 3 ###\n",
    "\n",
    "bakery = {'Булочки с яблоком': 4,\n",
    "          'Конвертики с творогом': 7, \n",
    "          'Крендельки с вареньем': 4}\n",
    "\n",
    "# Не удаляйте код ниже: он нужен для проверки выполнения задания.\n",
    "\n",
    "print(bakery.get(input()))"
   ]
  },
  {
   "cell_type": "code",
   "execution_count": 3,
   "id": "83057f58",
   "metadata": {
    "ExecuteTime": {
     "end_time": "2022-10-13T11:56:08.834215Z",
     "start_time": "2022-10-13T11:56:07.235483Z"
    }
   },
   "outputs": [
    {
     "name": "stdout",
     "output_type": "stream",
     "text": [
      "1\n",
      "30\n"
     ]
    }
   ],
   "source": [
    "### 4 ###\n",
    "\n",
    "groups = {1: 30, 2: 22, 3: 18, 4: 12}\n",
    "\n",
    "# Не удаляйте код ниже: он нужен для проверки выполнения задания.\n",
    "\n",
    "print(groups.get(int(input())))"
   ]
  },
  {
   "cell_type": "code",
   "execution_count": 5,
   "id": "c20c91b1",
   "metadata": {
    "ExecuteTime": {
     "end_time": "2022-10-13T11:58:07.923916Z",
     "start_time": "2022-10-13T11:58:03.520433Z"
    }
   },
   "outputs": [
    {
     "name": "stdout",
     "output_type": "stream",
     "text": [
      "Python\n",
      "True\n"
     ]
    }
   ],
   "source": [
    "### 5 ###\n",
    "\n",
    "courses = {'Python': True, 'Java': True, 'Kotlin': False, 'Rust': False}\n",
    "\n",
    "# Не удаляйте код ниже: он нужен для проверки выполнения задания.\n",
    "\n",
    "print(courses.get(input()))"
   ]
  },
  {
   "cell_type": "code",
   "execution_count": 6,
   "id": "4de0f551",
   "metadata": {
    "ExecuteTime": {
     "end_time": "2022-10-13T12:00:08.065107Z",
     "start_time": "2022-10-13T12:00:00.641361Z"
    }
   },
   "outputs": [
    {
     "name": "stdout",
     "output_type": "stream",
     "text": [
      "Москва\n",
      "-22\n"
     ]
    }
   ],
   "source": [
    "### 6 ###\n",
    "\n",
    "weather = {\"Москва\": -22,\n",
    "           \"Новосибирск\": -8,\n",
    "           \"Екатеринбург\": -9,\n",
    "           \"Хабаровск\": -29}\n",
    "\n",
    "key = input()\n",
    "\n",
    "print(weather[key])"
   ]
  },
  {
   "cell_type": "code",
   "execution_count": 7,
   "id": "d3ac2eee",
   "metadata": {
    "ExecuteTime": {
     "end_time": "2022-10-13T12:02:10.590578Z",
     "start_time": "2022-10-13T12:02:06.238122Z"
    }
   },
   "outputs": [
    {
     "name": "stdout",
     "output_type": "stream",
     "text": [
      "Москва\n",
      "Есть осадки\n"
     ]
    }
   ],
   "source": [
    "### 7 ###\n",
    "\n",
    "weather = {\n",
    "    \"Москва\": True,\n",
    "    \"Новосибирск\": True,\n",
    "    \"Екатеринбург\": False,\n",
    "    \"Хабаровск\": True,\n",
    "}\n",
    "\n",
    "location = input()\n",
    "\n",
    "if weather[location]:\n",
    "    print('Есть осадки')\n",
    "else:\n",
    "    print('Нет осадков')"
   ]
  },
  {
   "cell_type": "code",
   "execution_count": 8,
   "id": "bece709e",
   "metadata": {
    "ExecuteTime": {
     "end_time": "2022-10-13T12:05:48.128162Z",
     "start_time": "2022-10-13T12:05:44.540642Z"
    }
   },
   "outputs": [
    {
     "name": "stdout",
     "output_type": "stream",
     "text": [
      "Алиса\n",
      "70 баллов, оценка B\n"
     ]
    }
   ],
   "source": [
    "### 8 ###\n",
    "students = {\n",
    "    \"Алиса\": 70,\n",
    "    \"Эльдар\": 20,\n",
    "    \"Агата\": 40,\n",
    "    \"Ярослав\": 84,\n",
    "}\n",
    "\n",
    "user_input = input()\n",
    "\n",
    "if students[user_input] < 61:\n",
    "    print(f'{students[user_input]} баллов, оценка C')\n",
    "elif students[user_input] < 81:\n",
    "    print(f'{students[user_input]} баллов, оценка B')\n",
    "else:\n",
    "    print(f'{students[user_input]} баллов, оценка A')"
   ]
  },
  {
   "cell_type": "code",
   "execution_count": 9,
   "id": "71cc73fd",
   "metadata": {
    "ExecuteTime": {
     "end_time": "2022-10-13T12:09:12.919744Z",
     "start_time": "2022-10-13T12:09:09.808710Z"
    }
   },
   "outputs": [
    {
     "name": "stdout",
     "output_type": "stream",
     "text": [
      "Улитки\n",
      "Улица Литке, д. 6\n"
     ]
    }
   ],
   "source": [
    "### 9 ###\n",
    "locations = {\"Каньон\": \"Котлован заброшенной стройки на пл. Яхтенной\",\n",
    "             \"Убежище\": \"Сквер рядом с историческим дотом на севере\",\n",
    "             \"Пентагон\": \"Пятиэтажки на улице Ленина\",\n",
    "             \"Безумный Макс\": \"Памятник Максиму Горькому перед ТЮЗом\",\n",
    "             \"Централь\": \"Линии подачи ТЭЦ\",\n",
    "             \"Улитки\": \"Улица Литке, д. 6\"}\n",
    "\n",
    "user_input = input()\n",
    "\n",
    "print(locations[user_input])"
   ]
  },
  {
   "cell_type": "code",
   "execution_count": 10,
   "id": "9ff2e796",
   "metadata": {
    "ExecuteTime": {
     "end_time": "2022-10-13T12:11:34.661441Z",
     "start_time": "2022-10-13T12:11:29.888599Z"
    }
   },
   "outputs": [
    {
     "name": "stdout",
     "output_type": "stream",
     "text": [
      "Желание\n",
      "7\n"
     ]
    }
   ],
   "source": [
    "### 10 ###\n",
    "\n",
    "keywords = [\"Желание\", \"Семнадцать\", \"Ржавый\", \"Пропуск\", \"Печь\" ]\n",
    "\n",
    "word_count = {}\n",
    "\n",
    "for word in keywords:\n",
    "    word_count[word] = len(word)\n",
    "\n",
    "# Не удаляйте код ниже: он нужен для проверки.\n",
    "\n",
    "print(word_count.get(input()))"
   ]
  },
  {
   "cell_type": "code",
   "execution_count": 13,
   "id": "190f3fcc",
   "metadata": {
    "ExecuteTime": {
     "end_time": "2022-10-13T12:14:28.122248Z",
     "start_time": "2022-10-13T12:14:25.186660Z"
    }
   },
   "outputs": [
    {
     "name": "stdout",
     "output_type": "stream",
     "text": [
      "год 1977\n",
      "месяц 6\n",
      "день 7\n",
      "year month day\n",
      "1977 6 7\n"
     ]
    }
   ],
   "source": [
    "### 11 ###\n",
    "\n",
    "year = input('год ')\n",
    "month = input('месяц ')\n",
    "day = input('день ')\n",
    "\n",
    "birth_date = {\n",
    "    \"year\": int(year),\n",
    "    \"month\": int(month),\n",
    "    \"day\": int(day),\n",
    "}\n",
    "\n",
    "# Не удаляйте код ниже: он нужен для проверки.\n",
    "\n",
    "print(\" \".join([x for x in birth_date.keys()]))\n",
    "print(\" \".join([str(x) for x in birth_date.values()]))"
   ]
  },
  {
   "cell_type": "code",
   "execution_count": 14,
   "id": "a5a44a88",
   "metadata": {
    "ExecuteTime": {
     "end_time": "2022-10-13T12:42:12.124610Z",
     "start_time": "2022-10-13T12:42:12.106622Z"
    }
   },
   "outputs": [
    {
     "name": "stdout",
     "output_type": "stream",
     "text": [
      "1_2_3_4_5_6_7_8_9\n",
      "one_two_three_four_five_six_seven_eight_nine\n"
     ]
    }
   ],
   "source": [
    "### 13 ###\n",
    "numbers = {\n",
    "    1: \"one\",\n",
    "    2: \"two\",\n",
    "    3: \"three\",\n",
    "}\n",
    "\n",
    "optional_nubmers = {4: \"four\",\n",
    "                    5: \"five\",\n",
    "                    6: \"six\",\n",
    "                    7: \"seven\",\n",
    "                    8: \"eight\",\n",
    "                    9: \"nine\",\n",
    "                    }\n",
    "\n",
    "numbers.update(optional_nubmers)\n",
    "\n",
    "# Не удаляйте код ниже: он нужен для проверки.\n",
    "\n",
    "print(\"_\".join([str(x) for x in numbers]))\n",
    "print(\"_\".join(numbers.values()))"
   ]
  },
  {
   "cell_type": "code",
   "execution_count": 16,
   "id": "693dd9d2",
   "metadata": {
    "ExecuteTime": {
     "end_time": "2022-10-13T13:22:57.336605Z",
     "start_time": "2022-10-13T13:22:52.347578Z"
    }
   },
   "outputs": [
    {
     "name": "stdout",
     "output_type": "stream",
     "text": [
      "key key\n",
      "value value\n",
      "Справочник по Python_Блокнот в клеточку_Набор карандашей_key\n",
      "2200_800_650_value\n"
     ]
    }
   ],
   "source": [
    "### 14 ###\n",
    "shopping_list = {\n",
    "    \"Справочник по Python\": 2200,\n",
    "    \"Блокнот в клеточку\": 800,\n",
    "    \"Набор карандашей\": 650\n",
    "}\n",
    "\n",
    "new_key = input('key ')\n",
    "new_value = input('value ')\n",
    "\n",
    "shopping_list[new_key] = new_value\n",
    "\n",
    "# Не удаляйте код ниже: он нужен для проверки.\n",
    "\n",
    "print(\"_\".join(shopping_list))\n",
    "print(\"_\".join([str(x) for x in shopping_list.values()]))"
   ]
  },
  {
   "cell_type": "code",
   "execution_count": 20,
   "id": "d2827eeb",
   "metadata": {
    "ExecuteTime": {
     "end_time": "2022-10-13T13:28:26.322102Z",
     "start_time": "2022-10-13T13:28:26.309091Z"
    }
   },
   "outputs": [
    {
     "name": "stdout",
     "output_type": "stream",
     "text": [
      "1_4_6\n",
      "25_18_51\n"
     ]
    }
   ],
   "source": [
    "### 15 ###\n",
    "students = {\n",
    "    1: 25,\n",
    "    2: 18,\n",
    "    3: 21,\n",
    "    4: 18,\n",
    "    5: 22,\n",
    "    6: 51\n",
    "}\n",
    "\n",
    "for each in [2, 3, 5, ]: del students[each]\n",
    "\n",
    "# Не удаляйте код ниже: он нужен для проверки.\n",
    "\n",
    "print(\"_\".join([str(x) for x in students]))\n",
    "print(\"_\".join([str(x) for x in students.values()]))"
   ]
  },
  {
   "cell_type": "code",
   "execution_count": 21,
   "id": "e5233799",
   "metadata": {
    "ExecuteTime": {
     "end_time": "2022-10-13T13:30:13.284951Z",
     "start_time": "2022-10-13T13:30:08.233406Z"
    }
   },
   "outputs": [
    {
     "name": "stdout",
     "output_type": "stream",
     "text": [
      "key owl\n",
      "duck_mouse_sheep_cat\n",
      "утка_мышь_овца_кошка\n"
     ]
    }
   ],
   "source": [
    "### 16 ###\n",
    "\n",
    "words = {\n",
    "    \"owl\": \"сова\",\n",
    "    \"duck\": \"утка\",\n",
    "    \"mouse\": \"мышь\",\n",
    "    \"sheep\": \"овца\",\n",
    "    \"cat\": \"кошка\",\n",
    "}\n",
    "\n",
    "user_input = input('key ')\n",
    "\n",
    "del words[user_input]\n",
    "\n",
    "# Не удаляйте код ниже: он нужен для проверки.\n",
    "\n",
    "print(\"_\".join([str(x) for x in words]))\n",
    "print(\"_\".join([str(x) for x in words.values()]))"
   ]
  },
  {
   "cell_type": "code",
   "execution_count": 22,
   "id": "6d62cfca",
   "metadata": {
    "ExecuteTime": {
     "end_time": "2022-10-13T13:34:21.325546Z",
     "start_time": "2022-10-13T13:34:21.309546Z"
    }
   },
   "outputs": [
    {
     "name": "stdout",
     "output_type": "stream",
     "text": [
      "Мандаринки\n",
      "Шоколадные конфеты\n",
      "Гирлянда\n",
      "Набор шаров\n",
      "Хлопушки\n"
     ]
    }
   ],
   "source": [
    "### 18 ###\n",
    "\n",
    "gifts = {\n",
    "    \"Мандаринки\": 150,\n",
    "    \"Шоколадные конфеты\": 200,\n",
    "    \"Гирлянда\": 400,\n",
    "    \"Набор шаров\": 300,\n",
    "    \"Хлопушки\": 150\n",
    "}\n",
    "\n",
    "for each in gifts.keys():\n",
    "    print(each)"
   ]
  },
  {
   "cell_type": "code",
   "execution_count": 33,
   "id": "1519c4d9",
   "metadata": {
    "ExecuteTime": {
     "end_time": "2022-10-13T13:37:51.161420Z",
     "start_time": "2022-10-13T13:37:51.149419Z"
    }
   },
   "outputs": [
    {
     "name": "stdout",
     "output_type": "stream",
     "text": [
      "1200\n"
     ]
    }
   ],
   "source": [
    "### 19 ###\n",
    "\n",
    "gifts = {\n",
    "    \"Мандаринки\": 150,\n",
    "    \"Шоколадные конфеты\": 200,\n",
    "    \"Гирлянда\": 400,\n",
    "    \"Набор шаров\": 300,\n",
    "    \"Хлопушки\": 150,\n",
    "}\n",
    "\n",
    "print(sum(list(gifts.values())))"
   ]
  },
  {
   "cell_type": "code",
   "execution_count": 35,
   "id": "60c5a904",
   "metadata": {
    "ExecuteTime": {
     "end_time": "2022-10-13T13:39:50.301331Z",
     "start_time": "2022-10-13T13:39:50.284331Z"
    }
   },
   "outputs": [
    {
     "name": "stdout",
     "output_type": "stream",
     "text": [
      "Алиса\n",
      "Ярослав\n"
     ]
    }
   ],
   "source": [
    "### 20 ###\n",
    "\n",
    "guests = {\n",
    "    \"Алиса\": True,\n",
    "    \"Эльдар\": False,\n",
    "    \"Агата\": False,\n",
    "    \"Ярослав\": True,\n",
    "}\n",
    "\n",
    "for k, v in guests.items():\n",
    "    if v:\n",
    "        print(k)"
   ]
  },
  {
   "cell_type": "code",
   "execution_count": 36,
   "id": "7744bc78",
   "metadata": {
    "ExecuteTime": {
     "end_time": "2022-10-13T13:40:53.235694Z",
     "start_time": "2022-10-13T13:40:53.223706Z"
    }
   },
   "outputs": [
    {
     "name": "stdout",
     "output_type": "stream",
     "text": [
      "Джакарта\n",
      "Бангкок\n"
     ]
    }
   ],
   "source": [
    "### 21 ###\n",
    "locations = {\n",
    "    \"Джакарта\": 25,\n",
    "    \"Норильск\": -34,\n",
    "    \"Бангкок\": 21,\n",
    "    \"Якутск\": -52,\n",
    "    \"Москва\": 5,\n",
    "}\n",
    "\n",
    "for k, v in locations.items():\n",
    "    if v > 10:\n",
    "        print(k)"
   ]
  },
  {
   "cell_type": "code",
   "execution_count": 38,
   "id": "81f68b3d",
   "metadata": {
    "ExecuteTime": {
     "end_time": "2022-10-13T13:42:34.197074Z",
     "start_time": "2022-10-13T13:42:34.189073Z"
    }
   },
   "outputs": [
    {
     "name": "stdout",
     "output_type": "stream",
     "text": [
      "Теодор: 131\n",
      "Машуля: 119\n",
      "Борис: 101\n",
      "Зауреш: 107\n",
      "Кристина: 110\n"
     ]
    }
   ],
   "source": [
    "### 22 ###\n",
    "\n",
    "winners = {\n",
    "    \"Евгения\": 93,\n",
    "    \"Теодор\": 131,\n",
    "    \"Машуля\": 119,\n",
    "    \"Алиса\": 98,\n",
    "    \"Борис\": 101,\n",
    "    \"Акгулим\": 82,\n",
    "    \"Агелим\": 82,\n",
    "    \"Давид\": 93,\n",
    "    \"Зауреш\": 107,\n",
    "    \"Кристина\": 110,\n",
    "}\n",
    "\n",
    "for k, v in winners.items():\n",
    "    if v > 100:\n",
    "        print(f'{k}: {v}')"
   ]
  },
  {
   "cell_type": "code",
   "execution_count": 39,
   "id": "c4768ea1",
   "metadata": {
    "ExecuteTime": {
     "end_time": "2022-10-13T13:46:52.154008Z",
     "start_time": "2022-10-13T13:46:52.138007Z"
    }
   },
   "outputs": [
    {
     "name": "stdout",
     "output_type": "stream",
     "text": [
      "-\n",
      "Книги:\n",
      "Книга шифров\n",
      "Практическая криптография\n",
      "Криптономикон\n",
      "Взломщики кодов\n",
      "Криптология\n",
      "-\n",
      "Авторы:\n",
      "Саймон Сингх\n",
      "Брюс Шнайер\n",
      "Нил Стивенсон\n",
      "Дэвид Кан\n",
      "Альбрехт Бойтельспахер\n",
      "-\n",
      "Библиотека:\n",
      "Саймон Сингх - Книга шифров\n",
      "Брюс Шнайер - Практическая криптография\n",
      "Нил Стивенсон - Криптономикон\n",
      "Дэвид Кан - Взломщики кодов\n",
      "Альбрехт Бойтельспахер - Криптология\n"
     ]
    }
   ],
   "source": [
    "### 23 ###\n",
    "\n",
    "books = {\n",
    "    \"Саймон Сингх\": \"Книга шифров\",\n",
    "    \"Брюс Шнайер\": \"Практическая криптография\",\n",
    "    \"Нил Стивенсон\": \"Криптономикон\",\n",
    "    \"Дэвид Кан\": \"Взломщики кодов\",\n",
    "    \"Альбрехт Бойтельспахер\": \"Криптология\",\n",
    "}\n",
    "print('-')\n",
    "print('Книги:')\n",
    "for v in books.values():\n",
    "    print(v)\n",
    "\n",
    "print('-')\n",
    "print('Авторы:')\n",
    "for k in books.keys():\n",
    "    print(k)\n",
    "\n",
    "print('-')\n",
    "print('Библиотека:')\n",
    "for k, v in books.items():\n",
    "    print(f'{k} - {v}')"
   ]
  },
  {
   "cell_type": "code",
   "execution_count": null,
   "id": "e468eb01",
   "metadata": {},
   "outputs": [],
   "source": []
  }
 ],
 "metadata": {
  "kernelspec": {
   "display_name": "Python 3 (ipykernel)",
   "language": "python",
   "name": "python3"
  },
  "language_info": {
   "codemirror_mode": {
    "name": "ipython",
    "version": 3
   },
   "file_extension": ".py",
   "mimetype": "text/x-python",
   "name": "python",
   "nbconvert_exporter": "python",
   "pygments_lexer": "ipython3",
   "version": "3.9.12"
  }
 },
 "nbformat": 4,
 "nbformat_minor": 5
}
