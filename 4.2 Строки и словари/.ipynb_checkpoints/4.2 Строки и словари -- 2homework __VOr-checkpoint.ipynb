{
 "cells": [
  {
   "cell_type": "raw",
   "id": "5631676e",
   "metadata": {},
   "source": [
    "Программа: Выберите уровень сложности.\n",
    "Программа: Легкий, средний, сложный.\n",
    "Пользователь: Легкий.\n",
    "Программа: Выбран уровень сложности, мы предложим 5 слов, подберите перевод. \n",
    "\n",
    "Программа: Нажмите Enter.\n",
    "Пользователь:\n",
    "Программа: level, 7 букв, начинается на у...\n",
    "Пользователь: Уровень\n",
    "Программа: Верно, Level — это уровень.\n",
    "\n",
    "Программа: Нажмите Enter.\n",
    "Пользователь:\n",
    "Программа: Divide, 9 букв, начинается на р...\n",
    "Пользователь: Объединять.\n",
    "Программа: Неверно. Divide — это разделять.\n",
    "\n",
    "(Ещё три раунда.)\n",
    "\n",
    "Программа: Правильно отвечены слова: \n",
    "divide\n",
    "usual\n",
    "hidden\n",
    "mirror\n",
    "Программа: Неправильно отвечены слова: \n",
    "hero\n",
    "Программа:Ваш ранг: \n",
    "Отлично.\n",
    "\n",
    "(Конец)"
   ]
  },
  {
   "cell_type": "code",
   "execution_count": 2,
   "id": "c1498ec2",
   "metadata": {
    "ExecuteTime": {
     "end_time": "2022-10-14T13:00:14.458451Z",
     "start_time": "2022-10-14T13:00:14.439451Z"
    }
   },
   "outputs": [],
   "source": [
    "words_easy = {\n",
    "    \"family\": \"семья\",\n",
    "    \"hand\": \"рука\",\n",
    "    \"people\": \"люди\",\n",
    "    \"evening\": \"вечер\",\n",
    "    \"minute\": \"минута\",\n",
    "}\n",
    "\n",
    "words_medium = {\n",
    "    \"believe\": \"верить\",\n",
    "    \"feel\": \"чувствовать\",\n",
    "    \"make\": \"делать\",\n",
    "    \"open\": \"открывать\",\n",
    "    \"think\": \"думать\",\n",
    "}\n",
    "\n",
    "words_hard = {\n",
    "    \"rural\": \"деревенский\",\n",
    "    \"fortune\": \"удача\",\n",
    "    \"exercise\": \"упражнение\",\n",
    "    \"suggest\": \"предлагать\",\n",
    "    \"except\": \"кроме\",\n",
    "}"
   ]
  },
  {
   "cell_type": "code",
   "execution_count": 20,
   "id": "03299b58",
   "metadata": {
    "ExecuteTime": {
     "end_time": "2022-10-14T13:18:17.045345Z",
     "start_time": "2022-10-14T13:18:17.028344Z"
    }
   },
   "outputs": [],
   "source": [
    "dict_of_dicts = {**dict.fromkeys(['1', 'e'], words_easy),\n",
    "                 **dict.fromkeys(['2', 'm'], words_medium),\n",
    "                 **dict.fromkeys(['3', 'h'], words_hard)}"
   ]
  },
  {
   "cell_type": "code",
   "execution_count": 3,
   "id": "da14a12b",
   "metadata": {
    "ExecuteTime": {
     "end_time": "2022-10-14T13:00:38.600726Z",
     "start_time": "2022-10-14T13:00:38.589729Z"
    }
   },
   "outputs": [],
   "source": [
    "levels = {\n",
    "    0: \"Нулевой\",\n",
    "    1: \"Так себе\",\n",
    "    2: \"Можно лучше\",\n",
    "    3: \"Норм\",\n",
    "    4: \"Хорошо\",\n",
    "    5: \"Отлично\",\n",
    "}"
   ]
  },
  {
   "cell_type": "code",
   "execution_count": 37,
   "id": "a365a32f",
   "metadata": {
    "ExecuteTime": {
     "end_time": "2022-10-14T13:32:34.364368Z",
     "start_time": "2022-10-14T13:32:34.353368Z"
    }
   },
   "outputs": [],
   "source": [
    "answers = {}"
   ]
  },
  {
   "cell_type": "code",
   "execution_count": 79,
   "id": "e33d7598",
   "metadata": {
    "ExecuteTime": {
     "end_time": "2022-10-14T13:54:14.330070Z",
     "start_time": "2022-10-14T13:54:12.598859Z"
    }
   },
   "outputs": [
    {
     "name": "stdout",
     "output_type": "stream",
     "text": [
      "Введите уровень сложности:\n",
      "1 или e -- лёгко\n",
      "2 или m -- средне\n",
      "3 или h -- сложно\n",
      "4\n",
      "\n",
      "Вы ввели неправильный уровень сложности\n"
     ]
    }
   ],
   "source": [
    "grade = input(f'Введите уровень сложности:\\n1 или e -- лёгко\\n2 или m -- средне\\n3 или h -- сложно\\n')\n",
    "\n",
    "if grade not in ['1', 'e', '2', 'm', '3', 'h',]:\n",
    "    print(f'\\nВы ввели неправильный уровень сложности.')\n",
    "\n",
    "else:\n",
    "    words = dict_of_dicts.get(grade)\n",
    "    \n",
    "    for k,v in words.items():\n",
    "        print(f'{k}, {len(k)} букв, начинается на {k[0]}...')\n",
    "        answer = input('Введите перевод: ').lower()\n",
    "        if answer == v:\n",
    "            print(f'Верно. {k.title()} -- это {v}.\\n')\n",
    "            answers[k] = True\n",
    "        else:\n",
    "            print(f'Неверно. {k.title()} -- это {v}.\\n')\n",
    "            answers[k] = False\n",
    "\n",
    "    print('Правильно отвечены слова:')\n",
    "    for key in dict([(key, value) for key,value in answers.items() if value]).keys():\n",
    "        print(key)\n",
    "\n",
    "    print('\\nНеправильно отвечены слова:')\n",
    "    for key in dict([(key, value) for key,value in answers.items() if not value]).keys():\n",
    "        print(key)\n",
    "\n",
    "    print(f'\\nВаш ранг: {levels[list(answers.values()).count(True)]}')"
   ]
  },
  {
   "cell_type": "code",
   "execution_count": null,
   "id": "553e713d",
   "metadata": {},
   "outputs": [],
   "source": []
  }
 ],
 "metadata": {
  "kernelspec": {
   "display_name": "Python 3 (ipykernel)",
   "language": "python",
   "name": "python3"
  },
  "language_info": {
   "codemirror_mode": {
    "name": "ipython",
    "version": 3
   },
   "file_extension": ".py",
   "mimetype": "text/x-python",
   "name": "python",
   "nbconvert_exporter": "python",
   "pygments_lexer": "ipython3",
   "version": "3.9.12"
  }
 },
 "nbformat": 4,
 "nbformat_minor": 5
}
