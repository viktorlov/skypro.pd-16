{
 "cells": [
  {
   "cell_type": "code",
   "execution_count": 68,
   "metadata": {
    "collapsed": true
   },
   "outputs": [
    {
     "name": "stdout",
     "output_type": "stream",
     "text": [
      "Я иду налево\n",
      "Я осматриваюсь\n",
      "Я иду направо\n",
      "Я иду направо\n",
      "Я иду направо\n",
      "Я осматриваюсь\n",
      "Я иду направо\n"
     ]
    }
   ],
   "source": [
    "# задание 4\n",
    "\n",
    "class Hero:\n",
    "\n",
    "    def go_right(self):\n",
    "        print(\"Я иду направо\")\n",
    "\n",
    "    def go_left(self):\n",
    "        print(\"Я иду налево\")\n",
    "\n",
    "    def observe(self):\n",
    "        print(\"Я осматриваюсь\")\n",
    "\n",
    "\n",
    "hero = Hero()\n",
    "\n",
    "hero.go_left()\n",
    "hero.observe()\n",
    "hero.go_right()\n",
    "hero.go_right()\n",
    "hero.go_right()\n",
    "hero.observe()\n",
    "hero.go_right()\n"
   ]
  },
  {
   "cell_type": "code",
   "execution_count": 69,
   "outputs": [
    {
     "name": "stdout",
     "output_type": "stream",
     "text": [
      "Я иду 50 метров направо\n",
      "Я иду 30 метров налево\n",
      "Я осматриваюсь\n"
     ]
    }
   ],
   "source": [
    "# задание 5\n",
    "\n",
    "class Hero:\n",
    "\n",
    "    def go_right(self, distance):\n",
    "        print(f\"Я иду {distance} метров направо\")\n",
    "\n",
    "    def go_left(self, distance):\n",
    "        print(f\"Я иду {distance} метров налево\")\n",
    "\n",
    "    def observe(self):\n",
    "        print(\"Я осматриваюсь\")\n",
    "\n",
    "\n",
    "hero = Hero()\n",
    "\n",
    "hero.go_right(50)\n",
    "hero.go_left(30)\n",
    "hero.observe()"
   ],
   "metadata": {
    "collapsed": false
   }
  },
  {
   "cell_type": "code",
   "execution_count": 70,
   "outputs": [
    {
     "name": "stdout",
     "output_type": "stream",
     "text": [
      "Я иду наверх\n",
      "Я иду наверх\n",
      "Я осматриваюсь\n",
      "Я иду вниз\n",
      "Я иду вниз\n",
      "Я отдыхаю\n"
     ]
    }
   ],
   "source": [
    "# задание 6\n",
    "\n",
    "class Hero:\n",
    "\n",
    "    def go_right(self):\n",
    "        print(\"Я иду направо\")\n",
    "\n",
    "    def go_left(self):\n",
    "        print(\"Я иду налево\")\n",
    "\n",
    "    def observe(self):\n",
    "        print(\"Я осматриваюсь\")\n",
    "\n",
    "    def go_up(self):\n",
    "        print(\"Я иду наверх\")\n",
    "\n",
    "    def go_down(self):\n",
    "        print(\"Я иду вниз\")\n",
    "\n",
    "    def rest(self):\n",
    "        print(\"Я отдыхаю\")\n",
    "\n",
    "\n",
    "hero = Hero()\n",
    "\n",
    "hero.go_up()\n",
    "hero.go_up()\n",
    "hero.observe()\n",
    "hero.go_down()\n",
    "hero.go_down()\n",
    "hero.rest()\n"
   ],
   "metadata": {
    "collapsed": false
   }
  },
  {
   "cell_type": "code",
   "execution_count": 71,
   "outputs": [
    {
     "name": "stdout",
     "output_type": "stream",
     "text": [
      "Условия выполнены\n"
     ]
    }
   ],
   "source": [
    "# задание 7\n",
    "\n",
    "class Hero:\n",
    "\n",
    "    def go_right(self):\n",
    "        print(\"Я иду направо\")\n",
    "\n",
    "    def go_left(self):\n",
    "        print(\"Я иду налево\")\n",
    "\n",
    "    def observe(self):\n",
    "        print(\"Я осматриваюсь\")\n",
    "\n",
    "\n",
    "pythomir = Hero()\n",
    "flaskomir = Hero()\n",
    "djangomir = Hero()\n",
    "\n",
    "heroes = [pythomir, flaskomir, djangomir]\n",
    "\n",
    "# Не удаляйте код ниже, это проверка (иначе мы укусим вас за бочок)\n",
    "assert len(heroes) == 3, \"в списке не три героя\"\n",
    "assert isinstance(pythomir, Hero), \"pythomir – не экземпляр Hero\"\n",
    "assert isinstance(flaskomir, Hero), \"flaskomir – не экземпляр Hero\"\n",
    "assert isinstance(djangomir, Hero), \"djangomir – не экземпляр Hero\"\n",
    "print(\"Условия выполнены\")\n"
   ],
   "metadata": {
    "collapsed": false
   }
  },
  {
   "cell_type": "code",
   "execution_count": 72,
   "outputs": [
    {
     "name": "stdout",
     "output_type": "stream",
     "text": [
      "Я инициализировался!\n",
      "Проверка:\n",
      "Я инициализировался!\n"
     ]
    }
   ],
   "source": [
    "# задание 9\n",
    "\n",
    "class Hero:\n",
    "\n",
    "    def __init__(self):\n",
    "        print(\"Я инициализировался!\")\n",
    "\n",
    "\n",
    "pythomir = Hero()\n",
    "\n",
    "# Не удаляйте код ниже, это проверка (иначе мы укусим вас за бочок)\n",
    "\n",
    "print(\"Проверка:\")\n",
    "pythomir = Hero()"
   ],
   "metadata": {
    "collapsed": false
   }
  },
  {
   "cell_type": "code",
   "execution_count": 73,
   "outputs": [
    {
     "name": "stdout",
     "output_type": "stream",
     "text": [
      "Условия выполнены\n"
     ]
    }
   ],
   "source": [
    "# задание 10\n",
    "\n",
    "class Hero:\n",
    "    def __init__(self, name, motto):\n",
    "        self.name = name\n",
    "        self.motto = motto\n",
    "\n",
    "\n",
    "pythomir = Hero(\"Питомир\", \"Кусь за Русь\")\n",
    "flaskomir = Hero(\"Фласкомир\", \"Это нужно отметить\")\n",
    "djangomir = Hero(\"Джангомир\", \"Работает – и ладно!\")\n",
    "\n",
    "# Не удаляйте код ниже, это проверка (иначе мы укусим вас за бочок)\n",
    "\n",
    "if not hasattr(pythomir, \"name\"): print(\"Имя не задано\")\n",
    "if not hasattr(pythomir, \"motto\"): print(\"Девиз не задан\")\n",
    "print(\"Условия выполнены\")"
   ],
   "metadata": {
    "collapsed": false
   }
  },
  {
   "cell_type": "code",
   "execution_count": 74,
   "outputs": [
    {
     "name": "stdout",
     "output_type": "stream",
     "text": [
      "Питомир говорит: Кусь за Русь!\n",
      "Джангомир говорит: Работает - и ладно!\n"
     ]
    }
   ],
   "source": [
    "# задание 11\n",
    "\n",
    "class Hero:\n",
    "\n",
    "    def __init__(self, name, motto):\n",
    "        self.name = name\n",
    "        self.motto = motto\n",
    "\n",
    "    def say(self):\n",
    "        print(f'{self.name} говорит: {self.motto}')\n",
    "\n",
    "\n",
    "# Не удаляйте код ниже, это проверка (иначе мы укусим вас за бочок)\n",
    "\n",
    "pythomir = Hero(\"Питомир\", \"Кусь за Русь!\")\n",
    "pythomir.say()\n",
    "djangomir = Hero(\"Джангомир\", \"Работает - и ладно!\")\n",
    "djangomir.say()"
   ],
   "metadata": {
    "collapsed": false
   }
  },
  {
   "cell_type": "code",
   "execution_count": 75,
   "outputs": [
    {
     "name": "stdout",
     "output_type": "stream",
     "text": [
      "Проверка пройдена\n"
     ]
    }
   ],
   "source": [
    "# задание 12\n",
    "\n",
    "class Hero:\n",
    "\n",
    "    def __init__(self, name, things=None):\n",
    "        if things is None:\n",
    "            things = []\n",
    "        self.name = name\n",
    "        self.things = things\n",
    "\n",
    "    def collect(self, thing):\n",
    "        self.things.append(thing)\n",
    "\n",
    "\n",
    "# Не удаляйте код ниже, это проверка (иначе мы укусим вас за бочок)\n",
    "\n",
    "pythomir = Hero(\"Питомир\")\n",
    "pythomir.collect(\"Усы хитрости\")\n",
    "pythomir.collect(\"Рукавички пряморукости\")\n",
    "\n",
    "if len(pythomir.things) == 2:\n",
    "    print(\"Проверка пройдена\")\n",
    "else:\n",
    "    print(\"Добавление в список things работает некорректно\")"
   ],
   "metadata": {
    "collapsed": false
   }
  },
  {
   "cell_type": "code",
   "execution_count": 76,
   "outputs": [
    {
     "name": "stdout",
     "output_type": "stream",
     "text": [
      "Красная 0.7\n",
      "Белая 0.3\n",
      "Черная 1.0\n"
     ]
    }
   ],
   "source": [
    "# задание 16\n",
    "\n",
    "class Bottle:\n",
    "\n",
    "    def __init__(self, color, volume):\n",
    "        \"\"\"\n",
    "\n",
    "        :param color: цвет\n",
    "        :type color: str\n",
    "        :param volume: объём\n",
    "        :type volume: float\n",
    "        \"\"\"\n",
    "        self.color = color\n",
    "        self.volume = volume\n",
    "\n",
    "\n",
    "bottle_1 = Bottle(\"Красная\", 0.7)\n",
    "bottle_2 = Bottle(\"Белая\", 0.3)\n",
    "bottle_3 = Bottle(\"Черная\", 1.0)\n",
    "\n",
    "# Не удаляйте этот код, он нужен для проверки\n",
    "\n",
    "print(bottle_1.color, bottle_1.volume)\n",
    "print(bottle_2.color, bottle_2.volume)\n",
    "print(bottle_3.color, bottle_3.volume)"
   ],
   "metadata": {
    "collapsed": false
   }
  },
  {
   "cell_type": "code",
   "execution_count": 77,
   "outputs": [
    {
     "name": "stdout",
     "output_type": "stream",
     "text": [
      "Алиса 3\n",
      "Маргарита 2\n"
     ]
    }
   ],
   "source": [
    "# задание 17\n",
    "\n",
    "class Student:\n",
    "\n",
    "    def __init__(self, name, course):\n",
    "        \"\"\"\n",
    "\n",
    "        :param name: имя\n",
    "        :type name: str\n",
    "        :param course: курс\n",
    "        :type course: int\n",
    "        \"\"\"\n",
    "        self.name = name\n",
    "        self.course = course\n",
    "\n",
    "\n",
    "student_1 = Student(\"Алиса\", 3)\n",
    "student_2 = Student(\"Маргарита\", 2)\n",
    "\n",
    "# Не удаляйте этот код, он нужен для проверки\n",
    "\n",
    "print(student_1.name, student_1.course)\n",
    "print(student_2.name, student_2.course)"
   ],
   "metadata": {
    "collapsed": false
   }
  },
  {
   "cell_type": "code",
   "execution_count": 78,
   "outputs": [
    {
     "name": "stdout",
     "output_type": "stream",
     "text": [
      "Queen Killer Queen 3 треков\n",
      "Metallica Black Album 3 треков\n"
     ]
    }
   ],
   "source": [
    "# задание 18\n",
    "\n",
    "class Album:\n",
    "\n",
    "    def __init__(self, artist, title, tracks):\n",
    "        \"\"\"\n",
    "        :param artist: исполнитель\n",
    "        :type artist: str\n",
    "        :param title: название\n",
    "        :type title: str\n",
    "        :param tracks: треки\n",
    "        :type tracks: list\n",
    "        \"\"\"\n",
    "        self.artist = artist\n",
    "        self.title = title\n",
    "        self.tracks = tracks\n",
    "\n",
    "\n",
    "album_1 = Album(\"Queen\", \"Killer Queen\", [\"Brighton rock\", \"Killer Queen\", \"Tenement Funster\"])\n",
    "album_2 = Album(\"Metallica\", \"Black Album\", [\"Enter Sandman\", \"Sad But True\", \"Holier Than Thou\"])\n",
    "\n",
    "# Не удаляйте этот код, он нужен для проверки\n",
    "\n",
    "print(album_1.artist, album_1.title, len(album_1.tracks), \"треков\")\n",
    "print(album_2.artist, album_2.title, len(album_2.tracks), \"треков\")"
   ],
   "metadata": {
    "collapsed": false
   }
  },
  {
   "cell_type": "code",
   "execution_count": 79,
   "outputs": [
    {
     "name": "stdout",
     "output_type": "stream",
     "text": [
      "Красная 0.0\n",
      "Красная 100.0\n",
      "Синяя 0.0\n",
      "Синяя 500.0\n"
     ]
    }
   ],
   "source": [
    "# задание 19\n",
    "\n",
    "class Bottle:\n",
    "\n",
    "    def __init__(self, color, contains=0.0):\n",
    "        \"\"\"\n",
    "\n",
    "        :param color: цвет\n",
    "        :type color: str\n",
    "        :param contains: содержимое в мл\n",
    "        :type contains: float\n",
    "        \"\"\"\n",
    "        self.color = color\n",
    "        self.contains = contains\n",
    "\n",
    "    def get_content(self):\n",
    "        return self.contains\n",
    "\n",
    "    def fill(self, volume):\n",
    "        self.contains += volume\n",
    "\n",
    "\n",
    "bottle_1 = Bottle('Красная')\n",
    "bottle_2 = Bottle('Синяя')\n",
    "\n",
    "# Не удаляйте этот код, он нужен для проверки\n",
    "\n",
    "print(bottle_1.color, bottle_1.get_content())\n",
    "bottle_1.fill(100)\n",
    "print(bottle_1.color, bottle_1.get_content())\n",
    "\n",
    "print(bottle_2.color, bottle_2.get_content())\n",
    "bottle_2.fill(500)\n",
    "print(bottle_2.color, bottle_2.get_content())"
   ],
   "metadata": {
    "collapsed": false
   }
  },
  {
   "cell_type": "code",
   "execution_count": 80,
   "outputs": [
    {
     "name": "stdout",
     "output_type": "stream",
     "text": [
      "Выключить свет Поменять лампочку Включить свет\n"
     ]
    }
   ],
   "source": [
    "# задание 20\n",
    "\n",
    "class TodoList:\n",
    "    def __init__(self, tasks=None):\n",
    "        if tasks is None:\n",
    "            tasks = []\n",
    "        self.tasks = tasks\n",
    "\n",
    "    def add_task(self, task):\n",
    "        self.tasks.append(task)\n",
    "\n",
    "\n",
    "todo_list = TodoList()\n",
    "todo_list.add_task(\"Выключить свет\")\n",
    "todo_list.add_task(\"Поменять лампочку\")\n",
    "todo_list.add_task(\"Включить свет\")\n",
    "\n",
    "# Не удаляйте этот код, он нужен для проверки\n",
    "\n",
    "print(\" \".join(todo_list.tasks))"
   ],
   "metadata": {
    "collapsed": false
   }
  },
  {
   "cell_type": "code",
   "execution_count": 81,
   "outputs": [
    {
     "name": "stdout",
     "output_type": "stream",
     "text": [
      "Алиса 0\n",
      "Алиса 200\n",
      "Алиса 500\n"
     ]
    }
   ],
   "source": [
    "# задание 21\n",
    "\n",
    "class Player:\n",
    "\n",
    "    def __init__(self, name, score=0):\n",
    "        \"\"\"\n",
    "\n",
    "        :param name:\n",
    "        :type name: str\n",
    "        :param score:\n",
    "        :type score: int\n",
    "        \"\"\"\n",
    "        self.name = name\n",
    "        self.score = score\n",
    "\n",
    "    def get_score(self):\n",
    "        return self.score\n",
    "\n",
    "    def set_score(self, score):\n",
    "        self.score = score\n",
    "\n",
    "\n",
    "player_1 = Player(\"Алиса\")\n",
    "\n",
    "# Не удаляйте этот код, он нужен для проверки\n",
    "\n",
    "print(player_1.name, player_1.get_score())\n",
    "player_1.set_score(200)\n",
    "print(player_1.name, player_1.get_score())\n",
    "player_1.set_score(500)\n",
    "print(player_1.name, player_1.get_score())"
   ],
   "metadata": {
    "collapsed": false
   }
  },
  {
   "cell_type": "code",
   "execution_count": 84,
   "outputs": [
    {
     "name": "stdout",
     "output_type": "stream",
     "text": [
      "7\n",
      "10\n",
      "5\n"
     ]
    }
   ],
   "source": [
    "# задание 22\n",
    "\n",
    "class Number:\n",
    "\n",
    "    def __init__(self, value):\n",
    "        \"\"\"\n",
    "\n",
    "        :param value: число\n",
    "        :type value: int\n",
    "        \"\"\"\n",
    "        self.value = value\n",
    "\n",
    "    def get(self):\n",
    "        return self.value\n",
    "\n",
    "    def add(self, addition):\n",
    "        self.value += addition\n",
    "\n",
    "    def subtract(self, subtraction):\n",
    "        self.value -= subtraction\n",
    "\n",
    "\n",
    "# Не удаляйте этот код, он нужен для проверки\n",
    "\n",
    "n = Number(7)\n",
    "print(n.get())\n",
    "n.add(3)\n",
    "print(n.get())\n",
    "n.subtract(5)\n",
    "print(n.get())"
   ],
   "metadata": {
    "collapsed": false
   }
  },
  {
   "cell_type": "code",
   "execution_count": 85,
   "outputs": [
    {
     "name": "stdout",
     "output_type": "stream",
     "text": [
      "радиус 7\n",
      "диаметр 14\n",
      "периметр 44.0\n"
     ]
    }
   ],
   "source": [
    "# задание 23\n",
    "\n",
    "from math import pi\n",
    "\n",
    "\n",
    "class Circle:\n",
    "\n",
    "    def __init__(self, radius):\n",
    "        \"\"\"\n",
    "\n",
    "        :param radius: число\n",
    "        :type radius: int\n",
    "        \"\"\"\n",
    "        self.radius = radius\n",
    "\n",
    "    def get_radius(self):\n",
    "        return self.radius\n",
    "\n",
    "    def get_diameter(self):\n",
    "        return 2 * self.radius\n",
    "\n",
    "    def get_perimeter(self):\n",
    "        return 2 * pi * self.radius\n",
    "\n",
    "\n",
    "# Не удаляйте этот код, он нужен для проверки\n",
    "\n",
    "circle_1 = Circle(7)\n",
    "print(\"радиус\", circle_1.get_radius())\n",
    "print(\"диаметр\", circle_1.get_diameter())\n",
    "print(\"периметр\", round(circle_1.get_perimeter(), 1))"
   ],
   "metadata": {
    "collapsed": false
   }
  },
  {
   "cell_type": "code",
   "execution_count": 87,
   "outputs": [
    {
     "name": "stdout",
     "output_type": "stream",
     "text": [
      "2\n",
      "8\n",
      "White\n",
      "—-\n",
      "3\n",
      "12\n",
      "red\n",
      "—-\n",
      "1\n",
      "4\n",
      "black\n"
     ]
    }
   ],
   "source": [
    "# задание 24\n",
    "\n",
    "class Square:\n",
    "\n",
    "    def __init__(self, side_length, color='white'):\n",
    "        \"\"\"\n",
    "\n",
    "        :param side_length: длина стороны квадрата\n",
    "        :type side_length: int\n",
    "        :param color: цвет квадрата\n",
    "        :type color: str\n",
    "        \"\"\"\n",
    "        self.side_length = side_length\n",
    "        self.color = color\n",
    "\n",
    "    def set_side(self, length):\n",
    "        self.side_length = length\n",
    "\n",
    "    def set_color(self, colorization):\n",
    "        self.color = colorization\n",
    "\n",
    "    def get_side(self):\n",
    "        return self.side_length\n",
    "\n",
    "    def get_color(self):\n",
    "        return self.color\n",
    "\n",
    "    def get_perimeter(self):\n",
    "        return 4 * self.side_length\n",
    "\n",
    "\n",
    "# Не удаляйте этот код, он нужен для проверки\n",
    "\n",
    "square_1 = Square(2)\n",
    "print(square_1.get_side())\n",
    "print(square_1.get_perimeter())\n",
    "print(square_1.get_color())\n",
    "print(\"—-\")\n",
    "square_1.set_side(3)\n",
    "square_1.set_color(\"red\")\n",
    "print(square_1.get_side())\n",
    "print(square_1.get_perimeter())\n",
    "print(square_1.get_color())\n",
    "print(\"—-\")\n",
    "square_1 = Square(1, \"black\")\n",
    "print(square_1.get_side())\n",
    "print(square_1.get_perimeter())\n",
    "print(square_1.get_color())"
   ],
   "metadata": {
    "collapsed": false
   }
  },
  {
   "cell_type": "code",
   "execution_count": 147,
   "outputs": [
    {
     "name": "stdout",
     "output_type": "stream",
     "text": [
      "14\n",
      "16\n"
     ]
    },
    {
     "data": {
      "text/plain": "[None, None]"
     },
     "execution_count": 147,
     "metadata": {},
     "output_type": "execute_result"
    }
   ],
   "source": [
    "# задание 25\n",
    "\n",
    "class Room:\n",
    "\n",
    "    def __init__(self, number, is_free):\n",
    "        self.number = number\n",
    "        self.is_free = is_free\n",
    "\n",
    "\n",
    "def get_free_rooms(arg):\n",
    "    return [room for room in arg if room.is_free]\n",
    "\n",
    "\n",
    "rooms = [Room(14, True), Room(15, False), Room(16, True)]\n",
    "rooms_free = get_free_rooms(rooms)\n",
    "\n",
    "# Не удаляйте этот код, он нужен для проверки\n",
    "\n",
    "[print(r.number) for r in rooms_free]"
   ],
   "metadata": {
    "collapsed": false
   }
  },
  {
   "cell_type": "code",
   "execution_count": 145,
   "outputs": [],
   "source": [],
   "metadata": {
    "collapsed": false
   }
  }
 ],
 "metadata": {
  "kernelspec": {
   "display_name": "Python 3",
   "language": "python",
   "name": "python3"
  },
  "language_info": {
   "codemirror_mode": {
    "name": "ipython",
    "version": 2
   },
   "file_extension": ".py",
   "mimetype": "text/x-python",
   "name": "python",
   "nbconvert_exporter": "python",
   "pygments_lexer": "ipython2",
   "version": "2.7.6"
  }
 },
 "nbformat": 4,
 "nbformat_minor": 0
}
