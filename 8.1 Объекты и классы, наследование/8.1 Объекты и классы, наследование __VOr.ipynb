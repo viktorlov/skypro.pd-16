{
 "cells": [
  {
   "cell_type": "code",
   "execution_count": 2,
   "metadata": {
    "collapsed": true
   },
   "outputs": [
    {
     "name": "stdout",
     "output_type": "stream",
     "text": [
      "Я иду налево\n",
      "Я осматриваюсь\n",
      "Я иду направо\n",
      "Я иду направо\n",
      "Я иду направо\n",
      "Я осматриваюсь\n",
      "Я иду направо\n"
     ]
    }
   ],
   "source": [
    "# задание 4\n",
    "\n",
    "class Hero:\n",
    "\n",
    "    def go_right(self):\n",
    "        print(\"Я иду направо\")\n",
    "\n",
    "    def go_left(self):\n",
    "        print(\"Я иду налево\")\n",
    "\n",
    "    def observe(self):\n",
    "        print(\"Я осматриваюсь\")\n",
    "\n",
    "\n",
    "hero = Hero()\n",
    "\n",
    "hero.go_left()\n",
    "hero.observe()\n",
    "hero.go_right()\n",
    "hero.go_right()\n",
    "hero.go_right()\n",
    "hero.observe()\n",
    "hero.go_right()\n"
   ]
  },
  {
   "cell_type": "code",
   "execution_count": 3,
   "outputs": [
    {
     "name": "stdout",
     "output_type": "stream",
     "text": [
      "Я иду 50 метров направо\n",
      "Я иду 30 метров налево\n",
      "Я осматриваюсь\n"
     ]
    }
   ],
   "source": [
    "# задание 5\n",
    "\n",
    "class Hero:\n",
    "\n",
    "    def go_right(self, distance):\n",
    "        print(f\"Я иду {distance} метров направо\")\n",
    "\n",
    "    def go_left(self, distance):\n",
    "        print(f\"Я иду {distance} метров налево\")\n",
    "\n",
    "    def observe(self):\n",
    "        print(\"Я осматриваюсь\")\n",
    "\n",
    "\n",
    "hero = Hero()\n",
    "\n",
    "hero.go_right(50)\n",
    "hero.go_left(30)\n",
    "hero.observe()"
   ],
   "metadata": {
    "collapsed": false
   }
  },
  {
   "cell_type": "code",
   "execution_count": null,
   "outputs": [],
   "source": [
    "# задание 6\n",
    "\n",
    "class Hero:\n",
    "\n",
    "    def go_right(self):\n",
    "        print(\"Я иду направо\")\n",
    "\n",
    "    def go_left(self):\n",
    "        print(\"Я иду налево\")\n",
    "\n",
    "    def observe(self):\n",
    "        print(\"Я осматриваюсь\")\n",
    "\n",
    "    def go_up(self):\n",
    "        print(\"Я иду наверх\")\n",
    "\n",
    "    def go_down(self):\n",
    "        print(\"Я иду вниз\")\n",
    "\n",
    "    def rest(self):\n",
    "        print(\"Я отдыхаю\")\n",
    "\n",
    "\n",
    "hero = Hero()\n",
    "\n",
    "hero.go_up()\n",
    "hero.go_up()\n",
    "hero.observe()\n",
    "hero.go_down()\n",
    "hero.go_down()\n",
    "hero.rest()\n"
   ],
   "metadata": {
    "collapsed": false
   }
  },
  {
   "cell_type": "code",
   "execution_count": 4,
   "outputs": [
    {
     "name": "stdout",
     "output_type": "stream",
     "text": [
      "Условия выполнены\n"
     ]
    }
   ],
   "source": [
    "# задание 7\n",
    "\n",
    "class Hero:\n",
    "\n",
    "    def go_right(self):\n",
    "        print(\"Я иду направо\")\n",
    "\n",
    "    def go_left(self):\n",
    "        print(\"Я иду налево\")\n",
    "\n",
    "    def observe(self):\n",
    "        print(\"Я осматриваюсь\")\n",
    "\n",
    "\n",
    "pythomir = Hero()\n",
    "flaskomir = Hero()\n",
    "djangomir = Hero()\n",
    "\n",
    "heroes = [pythomir, flaskomir, djangomir]\n",
    "\n",
    "# Не удаляйте код ниже, это проверка (иначе мы укусим вас за бочок)\n",
    "assert len(heroes) == 3, \"в списке не три героя\"\n",
    "assert isinstance(pythomir, Hero), \"pythomir – не экземпляр Hero\"\n",
    "assert isinstance(flaskomir, Hero), \"flaskomir – не экземпляр Hero\"\n",
    "assert isinstance(djangomir, Hero), \"djangomir – не экземпляр Hero\"\n",
    "print(\"Условия выполнены\")\n"
   ],
   "metadata": {
    "collapsed": false
   }
  },
  {
   "cell_type": "code",
   "execution_count": null,
   "outputs": [],
   "source": [],
   "metadata": {
    "collapsed": false
   }
  },
  {
   "cell_type": "code",
   "execution_count": null,
   "outputs": [],
   "source": [],
   "metadata": {
    "collapsed": false
   }
  },
  {
   "cell_type": "code",
   "execution_count": null,
   "outputs": [],
   "source": [],
   "metadata": {
    "collapsed": false
   }
  },
  {
   "cell_type": "code",
   "execution_count": null,
   "outputs": [],
   "source": [],
   "metadata": {
    "collapsed": false
   }
  },
  {
   "cell_type": "code",
   "execution_count": null,
   "outputs": [],
   "source": [],
   "metadata": {
    "collapsed": false
   }
  }
 ],
 "metadata": {
  "kernelspec": {
   "display_name": "Python 3",
   "language": "python",
   "name": "python3"
  },
  "language_info": {
   "codemirror_mode": {
    "name": "ipython",
    "version": 2
   },
   "file_extension": ".py",
   "mimetype": "text/x-python",
   "name": "python",
   "nbconvert_exporter": "python",
   "pygments_lexer": "ipython2",
   "version": "2.7.6"
  }
 },
 "nbformat": 4,
 "nbformat_minor": 0
}
