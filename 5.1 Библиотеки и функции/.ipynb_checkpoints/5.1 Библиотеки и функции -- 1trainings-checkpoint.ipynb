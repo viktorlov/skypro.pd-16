{
 "cells": [
  {
   "cell_type": "code",
   "execution_count": 1,
   "id": "141e0f03",
   "metadata": {
    "ExecuteTime": {
     "end_time": "2022-10-17T06:06:06.482209Z",
     "start_time": "2022-10-17T06:06:06.463205Z"
    }
   },
   "outputs": [
    {
     "name": "stdout",
     "output_type": "stream",
     "text": [
      "2.718281828459045\n",
      "3.141592653589793\n",
      "1307674368000\n",
      "25.0\n"
     ]
    }
   ],
   "source": [
    "### 3 ###\n",
    "\n",
    "import math\n",
    "\n",
    "print(math.e)\n",
    "print(math.pi)\n",
    "print(math.factorial(15))\n",
    "print(math.sqrt(625))"
   ]
  },
  {
   "cell_type": "code",
   "execution_count": 2,
   "id": "101d6132",
   "metadata": {
    "ExecuteTime": {
     "end_time": "2022-10-17T06:06:34.676301Z",
     "start_time": "2022-10-17T06:06:34.662789Z"
    }
   },
   "outputs": [
    {
     "name": "stdout",
     "output_type": "stream",
     "text": [
      "HELLO_WORLD!\n"
     ]
    }
   ],
   "source": [
    "### 8 ###\n",
    "\n",
    "def hello():\n",
    "    print(\"HELLO_WORLD!\")\n",
    "\n",
    "\n",
    "hello()"
   ]
  },
  {
   "cell_type": "code",
   "execution_count": 3,
   "id": "a5f873b7",
   "metadata": {
    "ExecuteTime": {
     "end_time": "2022-10-17T06:06:54.547725Z",
     "start_time": "2022-10-17T06:06:54.537724Z"
    }
   },
   "outputs": [
    {
     "name": "stdout",
     "output_type": "stream",
     "text": [
      "50\n",
      "150\n",
      "1550\n"
     ]
    }
   ],
   "source": [
    "## 9 ###\n",
    "\n",
    "def times_ten(number):\n",
    "    print(number*10)\n",
    "\n",
    "\n",
    "times_ten(5)\n",
    "times_ten(15)\n",
    "times_ten(155)"
   ]
  },
  {
   "cell_type": "code",
   "execution_count": 4,
   "id": "c373a4f9",
   "metadata": {
    "ExecuteTime": {
     "end_time": "2022-10-17T06:08:42.290954Z",
     "start_time": "2022-10-17T06:08:42.274953Z"
    }
   },
   "outputs": [
    {
     "name": "stdout",
     "output_type": "stream",
     "text": [
      "Alpha\n",
      "Echo\n",
      "5\n"
     ]
    }
   ],
   "source": [
    "### 11 ###\n",
    "\n",
    "letters = [\"Alpha\", \"Bravo\", \"Charlie\", \"Delta\", \"Echo\"]\n",
    "\n",
    "\n",
    "def get_first_element():\n",
    "    return letters[0]\n",
    "\n",
    "\n",
    "def get_last_element():\n",
    "    return letters[-1]\n",
    "\n",
    "\n",
    "def get_list_length():\n",
    "    return len(letters)\n",
    "\n",
    "# Не удаляйте код ниже, он нужен для проверки\n",
    "\n",
    "\n",
    "print(get_first_element())\n",
    "print(get_last_element())\n",
    "print(get_list_length())"
   ]
  },
  {
   "cell_type": "code",
   "execution_count": 25,
   "id": "55adfb87",
   "metadata": {
    "ExecuteTime": {
     "end_time": "2022-10-17T06:19:08.295420Z",
     "start_time": "2022-10-17T06:19:08.278419Z"
    }
   },
   "outputs": [
    {
     "name": "stdout",
     "output_type": "stream",
     "text": [
      "35\n",
      "43\n",
      "9\n"
     ]
    }
   ],
   "source": [
    "### 12 ###\n",
    "\n",
    "text = \"The quick brown fox jumps over the lazy dog\"\n",
    "\n",
    "\n",
    "def text_length():\n",
    "    return sum(len(x) for x in text.split())\n",
    "\n",
    "\n",
    "def text_length_full():\n",
    "    return len(text)\n",
    "\n",
    "\n",
    "def text_word_count():\n",
    "    return int(text.count(' '))+1\n",
    "\n",
    "# # Не удаляйте код ниже, он нужен для вызова и тестирования функции\n",
    "\n",
    "\n",
    "print(text_length())\n",
    "print(text_length_full())\n",
    "print(text_word_count())"
   ]
  },
  {
   "cell_type": "code",
   "execution_count": 26,
   "id": "1228574e",
   "metadata": {
    "ExecuteTime": {
     "end_time": "2022-10-17T06:21:28.305769Z",
     "start_time": "2022-10-17T06:21:28.297770Z"
    }
   },
   "outputs": [
    {
     "name": "stdout",
     "output_type": "stream",
     "text": [
      "100\n",
      "10\n",
      "1\n"
     ]
    }
   ],
   "source": [
    "### 13 ###\n",
    "\n",
    "def mymax(first, second):\n",
    "    omega = 0\n",
    "    if first > second:\n",
    "        omega = first\n",
    "    else:\n",
    "        omega = second\n",
    "    return omega\n",
    "\n",
    "# Код ниже нужен для проверки и вызова функции, не удаляйте его!\n",
    "\n",
    "\n",
    "print(mymax(10, 100))\n",
    "print(mymax(10, 10))\n",
    "print(mymax(0, 1))"
   ]
  },
  {
   "cell_type": "code",
   "execution_count": 27,
   "id": "cbeec84f",
   "metadata": {
    "ExecuteTime": {
     "end_time": "2022-10-17T06:26:11.414159Z",
     "start_time": "2022-10-17T06:26:11.400158Z"
    }
   },
   "outputs": [
    {
     "name": "stdout",
     "output_type": "stream",
     "text": [
      "50\n",
      "200\n",
      "30\n"
     ]
    }
   ],
   "source": [
    "### 17 ###\n",
    "\n",
    "def get_distance(time, speed):\n",
    "    distance = time*speed\n",
    "    print(distance)\n",
    "\n",
    "\n",
    "get_distance(1, 50)\n",
    "get_distance(2, 100)\n",
    "get_distance(3, 10)"
   ]
  },
  {
   "cell_type": "code",
   "execution_count": 32,
   "id": "42f68474",
   "metadata": {
    "ExecuteTime": {
     "end_time": "2022-10-17T06:29:48.892909Z",
     "start_time": "2022-10-17T06:29:43.343468Z"
    }
   },
   "outputs": [
    {
     "name": "stdout",
     "output_type": "stream",
     "text": [
      "hhhhрррhhh\n",
      "True\n"
     ]
    }
   ],
   "source": [
    "### 18 ###\n",
    "\n",
    "def has_rrr(word):\n",
    "    return True if 'р' in word.lower() else False\n",
    "\n",
    "# Не удаляйте код ниже, он нужен для проверки\n",
    "\n",
    "\n",
    "word = input()\n",
    "result = has_rrr(word)\n",
    "print(result)"
   ]
  },
  {
   "cell_type": "code",
   "execution_count": 38,
   "id": "d4942a22",
   "metadata": {
    "ExecuteTime": {
     "end_time": "2022-10-17T06:33:35.610518Z",
     "start_time": "2022-10-17T06:33:34.663774Z"
    }
   },
   "outputs": [
    {
     "name": "stdout",
     "output_type": "stream",
     "text": [
      "6\n",
      "False\n"
     ]
    }
   ],
   "source": [
    "### 19 ###\n",
    "\n",
    "grades = {2: \"Плохо\", 3: \"Удовлетворительно\", 4: \"Хорошо\", 5: \"Отлично\"}\n",
    "\n",
    "\n",
    "def get_grade(integer):\n",
    "    return grades[integer] if integer in grades.keys() else False\n",
    "\n",
    "# Не удаляйте код ниже, он нужен для вызова функции и проверки\n",
    "\n",
    "\n",
    "grade = int(input())\n",
    "print(get_grade(grade))"
   ]
  },
  {
   "cell_type": "code",
   "execution_count": 41,
   "id": "f1c9dc90",
   "metadata": {
    "ExecuteTime": {
     "end_time": "2022-10-17T06:36:59.460952Z",
     "start_time": "2022-10-17T06:36:57.619441Z"
    }
   },
   "outputs": [
    {
     "name": "stdout",
     "output_type": "stream",
     "text": [
      "100\n",
      "Отлично\n"
     ]
    }
   ],
   "source": [
    "### 20 ###\n",
    "\n",
    "# 0–40 баллов — Плохо\n",
    "# 41–60 баллов — Удовлетворительно\n",
    "# 61–80 баллов — Хорошо\n",
    "# 81–100 баллов — Отлично\n",
    "# get_grade(35) # Вернет Плохо\n",
    "# get_grade(45) # Вернет Удовлетворительно\n",
    "# get_grade(100) # Вернет Отлично\n",
    "\n",
    "def get_grade(points):\n",
    "    omega = ''\n",
    "    if points <= 40:\n",
    "        omega = 'Плохо'\n",
    "    elif points <= 60:\n",
    "        omega = 'Удовлетворительно'\n",
    "    elif points <= 80:\n",
    "        omega = 'Хорошо'\n",
    "    else:\n",
    "        omega = 'Отлично'\n",
    "    return omega\n",
    "\n",
    "# Не удаляйте код ниже, он нужен для проверки\n",
    "\n",
    "\n",
    "points = int(input())\n",
    "grade = get_grade(points)\n",
    "print(grade)"
   ]
  },
  {
   "cell_type": "code",
   "execution_count": 45,
   "id": "24ec99ab",
   "metadata": {
    "ExecuteTime": {
     "end_time": "2022-10-17T06:39:52.632419Z",
     "start_time": "2022-10-17T06:39:51.375194Z"
    }
   },
   "outputs": [
    {
     "name": "stdout",
     "output_type": "stream",
     "text": [
      "17\n",
      "день\n"
     ]
    }
   ],
   "source": [
    "### 21 ###\n",
    "\n",
    "# Час — это целое число в диапазоне от 0 до 24.\n",
    "\n",
    "# Если время 0–6 — ночь\n",
    "# Если время 7–11 — утро\n",
    "# Если время 12–17 — день\n",
    "# Если время 18–24 — вечер\n",
    "# Примеры вызова:\n",
    "\n",
    "# get_period(8) # Вернет \"утро\"\n",
    "# get_period(17) # Вернет \"день\"\n",
    "# get_period(0) # Вернет \"ночь\"\n",
    "\n",
    "def get_period(hour):\n",
    "    omega = ''\n",
    "    if hour <= 6:\n",
    "        omega = 'ночь'\n",
    "    elif hour <= 11:\n",
    "        omega = 'утро'\n",
    "    elif hour <= 17:\n",
    "        omega = 'день'\n",
    "    else:\n",
    "        omega = 'вечер'\n",
    "    return omega\n",
    "\n",
    "# Не удаляйте код ниже, он нужен для проверки\n",
    "\n",
    "\n",
    "hour = int(input())\n",
    "time_of_day = get_period(hour)\n",
    "print(time_of_day)"
   ]
  },
  {
   "cell_type": "code",
   "execution_count": 48,
   "id": "99b779fd",
   "metadata": {
    "ExecuteTime": {
     "end_time": "2022-10-17T06:43:37.371035Z",
     "start_time": "2022-10-17T06:43:33.694636Z"
    }
   },
   "outputs": [
    {
     "name": "stdout",
     "output_type": "stream",
     "text": [
      "5 5 5 5 5 5 5 5 3 3\n",
      "4.6\n"
     ]
    }
   ],
   "source": [
    "### 22 ###\n",
    "\n",
    "# avg([1,2,3]) # Вернет 2.0\n",
    "# avg([5,5,5,5]) # Вернет 5.0\n",
    "# avg([2,8]) # Вернет 5.0\n",
    "\n",
    "def avg(items):\n",
    "    import numpy\n",
    "    return numpy.mean(items)\n",
    "\n",
    "# Не удаляйте код ниже, он нужен для проверки\n",
    "\n",
    "items = [int(x) for x in input().split(\" \")]\n",
    "items_avg = avg(items)\n",
    "print(items_avg)"
   ]
  },
  {
   "cell_type": "code",
   "execution_count": 56,
   "id": "f5d3e89f",
   "metadata": {
    "ExecuteTime": {
     "end_time": "2022-10-17T06:48:40.851494Z",
     "start_time": "2022-10-17T06:48:39.984404Z"
    }
   },
   "outputs": [
    {
     "name": "stdout",
     "output_type": "stream",
     "text": [
      "99\n",
      "0\n"
     ]
    }
   ],
   "source": [
    "### 23 ###\n",
    "\n",
    "# get_rur_kop(100) # Возвращает 1\n",
    "# get_rur_kop(755) # Возвращает 7\n",
    "# get_rur_kop(1234) # Возвращает 12\n",
    "# get_rur_kop(99) # Возвращает 0\n",
    "\n",
    "\n",
    "def get_rur_kop(value):\n",
    "    import math\n",
    "    return int(math.modf(value/100)[1])\n",
    "\n",
    "\n",
    "# Не удаляйте код ниже, он нужен для проверки\n",
    "\n",
    "value = int(input())\n",
    "result = get_rur_kop(value)\n",
    "print(result)"
   ]
  },
  {
   "cell_type": "code",
   "execution_count": 65,
   "id": "a7c37851",
   "metadata": {
    "ExecuteTime": {
     "end_time": "2022-10-17T06:55:07.393747Z",
     "start_time": "2022-10-17T06:55:06.033165Z"
    }
   },
   "outputs": [
    {
     "name": "stdout",
     "output_type": "stream",
     "text": [
      "150\n",
      "{'min': 2, 'sec': 30}\n"
     ]
    }
   ],
   "source": [
    "### 24 ###\n",
    "\n",
    "# get_min_sec(120) # Вернет {\"min\": 2, \"sec\": 0}\n",
    "# get_min_sec(150) # Вернет {\"min\": 2, \"sec\": 30}\n",
    "# get_min_sec(15) # Вернет {\"min\": 0, \"sec\": 15}\n",
    "\n",
    "def get_min_sec(sec):\n",
    "    import math\n",
    "    return {'min': int(math.modf(sec/60)[1]), 'sec': int(60*math.modf(sec/60)[0])}\n",
    "\n",
    "# Не удаляйте код ниже, он нужен для проверки\n",
    "\n",
    "\n",
    "value = int(input())\n",
    "result = get_min_sec(value)\n",
    "print(result)"
   ]
  },
  {
   "cell_type": "code",
   "execution_count": 69,
   "id": "b92d2c0e",
   "metadata": {
    "ExecuteTime": {
     "end_time": "2022-10-17T06:57:26.752393Z",
     "start_time": "2022-10-17T06:57:25.261083Z"
    }
   },
   "outputs": [
    {
     "name": "stdout",
     "output_type": "stream",
     "text": [
      "10\n",
      "10\n",
      "100%\n"
     ]
    }
   ],
   "source": [
    "### 25 ###\n",
    "\n",
    "# get_percent_rounded(10, 10) # Вернет \"100%\"\n",
    "# get_percent_rounded(5, 15) # Вернет \"33%\"\n",
    "# get_percent_rounded(0, 5)  # Вернет \"0%\"\n",
    "\n",
    "def get_percent_rounded(first, second):\n",
    "    return f'{100*first/second:.0f}%'\n",
    "\n",
    "# Не удаляйте код ниже, он нужен для проверки\n",
    "\n",
    "a = int(input())\n",
    "b = int(input())\n",
    "print(get_percent_rounded(a, b))"
   ]
  },
  {
   "cell_type": "code",
   "execution_count": 73,
   "id": "b4726d25",
   "metadata": {
    "ExecuteTime": {
     "end_time": "2022-10-17T07:07:32.055255Z",
     "start_time": "2022-10-17T07:07:24.399206Z"
    }
   },
   "outputs": [
    {
     "name": "stdout",
     "output_type": "stream",
     "text": [
      "Котята #еда #закат море\n",
      "['еда', 'закат']\n"
     ]
    }
   ],
   "source": [
    "### 26 ###\n",
    "\n",
    "# get_hashtags(\"Котята #еда #закат море\") # Вернет список ['еда', 'закат']\n",
    "# get_hashtags(\"#код #функция #решение\") # Вернет ['код', 'функция', 'решение']\n",
    "# get_hashtags(\"Котята\") # Вернет []\n",
    "\n",
    "def get_hashtags(text):\n",
    "    return [word[1:] for word in text.split(' ') if word.startswith('#')]\n",
    "\n",
    "\n",
    "# Не удаляйте код ниже, он нужен для проверки\n",
    "words = input()\n",
    "result = get_hashtags(words)\n",
    "print(result)"
   ]
  },
  {
   "cell_type": "code",
   "execution_count": 83,
   "id": "4902b6ff",
   "metadata": {
    "ExecuteTime": {
     "end_time": "2022-10-17T07:18:57.766992Z",
     "start_time": "2022-10-17T07:18:56.826153Z"
    }
   },
   "outputs": [
    {
     "name": "stdout",
     "output_type": "stream",
     "text": [
      "2\n",
      "12.56\n"
     ]
    }
   ],
   "source": [
    "### 27 ###\n",
    "\n",
    "# get_square(1) # Вернет 3.14\n",
    "# get_square(2) # Вернет 12.56\n",
    "# get_square(3) # Вернет 28.26\n",
    "\n",
    "def get_square(radius):\n",
    "    return radius**2*3.14\n",
    "\n",
    "# Не удаляйте код ниже, он нужен для проверки\n",
    "\n",
    "\n",
    "radius = int(input())\n",
    "square = get_square(radius)\n",
    "print(square)"
   ]
  },
  {
   "cell_type": "code",
   "execution_count": null,
   "id": "301b34d1",
   "metadata": {},
   "outputs": [],
   "source": [
    "### 28 ###\n",
    "\n",
    "# get_longest([\"еж\" , \"мышь\", \"стриж\"]) # Вернет \"стриж\"\n",
    "# get_longest([\"aaa\", \"aa\", \"a\"]) # Вернет \"aaa\"\n",
    "# get_longest([\"——-\", \"—-\", \"-\"]) # Вернет \"——-\"\n",
    "# get_longest([\"a\", \"a\", \"a\"]) # Вернет \"a\"\n",
    "\n",
    "def get_longest(words):\n",
    "    return max(words, key=len)\n",
    "\n",
    "# Не удаляйте код ниже, он нужен для проверки\n",
    "\n",
    "\n",
    "word = input().split(\" \")\n",
    "result = get_longest(word)\n",
    "print(result)"
   ]
  },
  {
   "cell_type": "code",
   "execution_count": 153,
   "id": "319b5076",
   "metadata": {
    "ExecuteTime": {
     "end_time": "2022-10-17T07:46:54.830537Z",
     "start_time": "2022-10-17T07:46:49.206360Z"
    }
   },
   "outputs": [
    {
     "name": "stdout",
     "output_type": "stream",
     "text": [
      "2000\n",
      "1\n"
     ]
    }
   ],
   "source": [
    "### 29 ###\n",
    "\n",
    "# Правила вычисления уровня:\n",
    "\n",
    "# до 5000 вернет 1\n",
    "# до 10000 вернет 2\n",
    "# до 20000 вернет 3\n",
    "# до 35000 вернет 4\n",
    "# до 50000 вернет 5\n",
    "# от 50000 и выше вернет 6\n",
    "# Примеры вызова функции:\n",
    "\n",
    "# get_discount(2000) # Вернет 1\n",
    "# get_discount(7500) # Вернет 2\n",
    "# get_discount(45000) # Вернет 5\n",
    "# get_discount(75000) # Вернет 6\n",
    "\n",
    "\n",
    "def get_discount(summ):\n",
    "    omega = 0\n",
    "    if summ <= 5000:\n",
    "        omega = 1\n",
    "    elif summ <= 10000:\n",
    "        omega = 2\n",
    "    elif summ <= 20000:\n",
    "        omega = 3\n",
    "    elif summ <= 35000:\n",
    "        omega = 4\n",
    "    elif summ <= 50000:\n",
    "        omega = 5 \n",
    "    else:\n",
    "        omega = 6\n",
    "    return omega\n",
    "\n",
    "# Не удаляйте код ниже, он нужен для проверки\n",
    "\n",
    "\n",
    "value = int(input())\n",
    "result = get_discount(value)\n",
    "print(result)"
   ]
  },
  {
   "cell_type": "code",
   "execution_count": null,
   "id": "d2d0bb7c",
   "metadata": {},
   "outputs": [],
   "source": []
  },
  {
   "cell_type": "code",
   "execution_count": null,
   "id": "8c0d2aba",
   "metadata": {},
   "outputs": [],
   "source": []
  }
 ],
 "metadata": {
  "kernelspec": {
   "display_name": "Python 3 (ipykernel)",
   "language": "python",
   "name": "python3"
  },
  "language_info": {
   "codemirror_mode": {
    "name": "ipython",
    "version": 3
   },
   "file_extension": ".py",
   "mimetype": "text/x-python",
   "name": "python",
   "nbconvert_exporter": "python",
   "pygments_lexer": "ipython3",
   "version": "3.9.12"
  }
 },
 "nbformat": 4,
 "nbformat_minor": 5
}
