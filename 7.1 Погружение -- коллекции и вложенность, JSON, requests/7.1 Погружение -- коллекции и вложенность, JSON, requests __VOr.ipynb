{
 "cells": [
  {
   "cell_type": "code",
   "execution_count": 315,
   "outputs": [
    {
     "name": "stdout",
     "output_type": "stream",
     "text": [
      "Всего 7 видов рыб\n",
      "морская камбала\n",
      "морской окунь\n",
      "сайра\n",
      "сельдь-черноспинка\n",
      "ставрида\n",
      "треска\n",
      "тунец\n"
     ]
    }
   ],
   "source": [
    "# задание 3\n",
    "\n",
    "raw_list = [\"сельдь-черноспинка\", \"морская камбала\", \"тунец\", \"ставрида\", \"морской окунь\", \"треска\", \"сайра\",\n",
    "            \"морская камбала\", \"ставрида\", \"треска\", \"треска\", \"треска\", \"тунец\", \"ставрида\", \"морская камбала\",\n",
    "            \"тунец\", \"морская камбала\", \"морская камбала\", \"морская камбала\", \"морская камбала\", \"тунец\", ]\n",
    "unique_list = sorted(set(raw_list))\n",
    "print(f\"Всего {len(unique_list)} видов рыб\")\n",
    "print(*unique_list, sep='\\n')"
   ],
   "metadata": {
    "collapsed": false
   }
  },
  {
   "cell_type": "code",
   "execution_count": 316,
   "outputs": [
    {
     "name": "stdout",
     "output_type": "stream",
     "text": [
      "f Киселёв\n",
      "i Всеволод\n",
      "o Эдуардович\n",
      "pass 342 020\n",
      "birthday 14 ноября 2001 года\n",
      "phone +7 (908) 161-64-28\n",
      "position главный инженер\n",
      "-\n",
      "f Довлатова\n",
      "i Эмилия\n",
      "o Ефимовна\n",
      "pass 342 000\n",
      "birthday 18 мая 2001 года\n",
      "phone +7 (924) 588-50-15\n",
      "position технолог\n",
      "-\n",
      "f Аверин\n",
      "i Мартын\n",
      "o Егорович\n",
      "pass 217 340\n",
      "birthday 12 февраля 1981 года\n",
      "phone +7 (933) 768-22-15\n",
      "position технолог\n",
      "-\n",
      "f Князева\n",
      "i Августа\n",
      "o Егоровна\n",
      "pass 320 021\n",
      "birthday 2 июля 1984 года\n",
      "phone +7 (965) 886-27-01\n",
      "position расфасовщик\n",
      "-\n",
      "f Шанская\n",
      "i Аграфена\n",
      "o Семёновна\n",
      "pass 116 404\n",
      "birthday 7 июля 1982 года\n",
      "phone +7 (954) 940-47-96\n",
      "position психолог для рыб\n",
      "-\n"
     ]
    }
   ],
   "source": [
    "# задание 7\n",
    "\n",
    "users_to_add = [\n",
    "    'Киселёв / Всеволод / Эдуардович / 342 020 / 14 ноября 2001 года / +7 (908) 161-64-28 / главный инженер',\n",
    "    'Довлатова / Эмилия / Ефимовна / 342 000 / 18 мая 2001 года / +7 (924) 588-50-15 / технолог',\n",
    "    'Аверин / Мартын / Егорович / 217 340 / 12 февраля 1981 года / +7 (933) 768-22-15 / технолог',\n",
    "    'Князева / Августа / Егоровна / 320 021 / 2 июля 1984 года / +7 (965) 886-27-01 / расфасовщик',\n",
    "    'Шанская / Аграфена / Семёновна / 116 404 / 7 июля 1982 года / +7 (954) 940-47-96 / психолог для рыб']\n",
    "\n",
    "employees = {}\n",
    "\n",
    "for key in range(len(users_to_add)):\n",
    "    string_ = {\"f\": users_to_add[key].split(' / ')[0]\n",
    "        , \"i\": users_to_add[key].split(' / ')[1]\n",
    "        , \"o\": users_to_add[key].split(' / ')[2]\n",
    "        , \"pass\": users_to_add[key].split(' / ')[3]\n",
    "        , \"birthday\": users_to_add[key].split(' / ')[4]\n",
    "        , \"phone\": users_to_add[key].split(' / ')[5]\n",
    "        , \"position\": users_to_add[key].split(' / ')[6]}\n",
    "    employees[users_to_add[key].split(' / ')[0]] = string_\n",
    "\n",
    "# Не удаляйте код ниже, он важен для проверки!\n",
    "\n",
    "for employee in employees.values():\n",
    "    for key, value in employee.items():\n",
    "        print(key, value)\n",
    "    print(\"-\")"
   ],
   "metadata": {
    "collapsed": false
   }
  },
  {
   "cell_type": "code",
   "execution_count": 317,
   "outputs": [
    {
     "name": "stdout",
     "output_type": "stream",
     "text": [
      "Вакцинированные:\n",
      "Киселёв Всеволод Эдуардович \n",
      "Аверин Мартын Егорович\n",
      "Шанская Аграфена Семёновна\n",
      "Остальные:\n",
      "Довлатова Эмилия Ефимовна\n",
      "Князева Августа Егоровна\n",
      "Куприна Марина Викторовна\n",
      "Селезнёв Константин Игоревич\n"
     ]
    }
   ],
   "source": [
    "# задание 8\n",
    "\n",
    "employees = [{\"fio\": \"Киселёв Всеволод Эдуардович \", \"vaccinated\": True},\n",
    "             {\"fio\": \"Довлатова Эмилия Ефимовна\", \"vaccinated\": False},\n",
    "             {\"fio\": \"Аверин Мартын Егорович\", \"vaccinated\": True},\n",
    "             {\"fio\": \"Князева Августа Егоровна\", \"vaccinated\": False},\n",
    "             {\"fio\": \"Шанская Аграфена Семёновна\", \"vaccinated\": True},\n",
    "             {\"fio\": \"Куприна Марина Викторовна\", \"vaccinated\": False},\n",
    "             {\"fio\": \"Селезнёв Константин Игоревич\", \"vaccinated\": False}, ]\n",
    "\n",
    "vaccinated = []\n",
    "not_vaccinated = []\n",
    "\n",
    "for item in employees:\n",
    "    vaccinated.append(item['fio']) if item['vaccinated'] else not_vaccinated.append(item['fio'])\n",
    "\n",
    "print(\"Вакцинированные:\")\n",
    "print(*vaccinated, sep=\"\\n\")\n",
    "print(\"Остальные:\")\n",
    "print(*not_vaccinated, sep=\"\\n\")\n"
   ],
   "metadata": {
    "collapsed": false
   }
  },
  {
   "cell_type": "code",
   "execution_count": 318,
   "outputs": [
    {
     "name": "stdout",
     "output_type": "stream",
     "text": [
      "Морские: Морской окунь, Тунец, Скумбрия\n",
      "Пресноводные: Белуга, Карась, Красноперка\n"
     ]
    }
   ],
   "source": [
    "# задание 9\n",
    "\n",
    "fish = [{\"specie\": \"Белуга\", \"water\": \"fresh\"},\n",
    "        {\"specie\": \"Карась\", \"water\": \"fresh\"},\n",
    "        {\"specie\": \"Красноперка\", \"water\": \"fresh\"},\n",
    "        {\"specie\": \"Морской окунь\", \"water\": \"sea\"},\n",
    "        {\"specie\": \"Тунец\", \"water\": \"sea\"},\n",
    "        {\"specie\": \"Скумбрия\", \"water\": \"sea\"}, ]\n",
    "\n",
    "sea_water = []\n",
    "fresh_water = []\n",
    "\n",
    "for item in fish:\n",
    "    sea_water.append(item['specie']) if item['water'] == \"sea\" else fresh_water.append(item['specie'])\n",
    "\n",
    "print(\"Морские:\", end=' ')\n",
    "print(*sea_water, sep=', ')\n",
    "print(\"Пресноводные:\", end=' ')\n",
    "print(*fresh_water, sep=', ')"
   ],
   "metadata": {
    "collapsed": false
   }
  },
  {
   "cell_type": "code",
   "execution_count": 341,
   "outputs": [
    {
     "name": "stdout",
     "output_type": "stream",
     "text": [
      "Лосось: Проходная форма обитает в северной части Атлантического океана. Заходит на нерест в реки от Португалии и Испании до Баренцева моря.\n",
      "Пресноводная рыба\n",
      "Промысловый размер: 50 см\n"
     ]
    }
   ],
   "source": [
    "# задание 10\n",
    "\n",
    "species = [{\"specie\": \"Лещ\", \"len\": \"29\", \"sea\": False,\n",
    "            \"desc\": \"Единственный представитель рода лещей из семейства карповых.\"},\n",
    "           {\"specie\": \"Щука\", \"len\": \"45\", \"sea\": False,\n",
    "            \"desc\": \"Распространена в пресных водах Евразии и Северной Америки. Живет обычно в прибрежной зоне, в водных зарослях, в непроточных или слабопроточных водах. \"},\n",
    "           {\"specie\": \"Треска\", \"len\": \"33\", \"sea\": True,\n",
    "            \"desc\": \"Треска встречается от прибрежной полосы до континентального шельфа, но в открытом море над большими глубинами редко. Ее жизненный цикл привязан к морским течениям Северной Атлантики.\"},\n",
    "           {\"specie\": \"Камбала\", \"len\": \"25\", \"sea\": True,\n",
    "            \"desc\": \" Тело плоское, сильно сжато с боков, глаза расположены не по бокам головы, а смещены на одну ее сторону. Плавательного пузыря нет. \"},\n",
    "           {\"specie\": \"Лосось\", \"len\": \"50\", \"sea\": False,\n",
    "            \"desc\": \"Проходная форма обитает в северной части Атлантического океана. Заходит на нерест в реки от Португалии и Испании до Баренцева моря.\"}, ]\n",
    "\n",
    "s = input('рыба твоей мечты: ')\n",
    "\n",
    "fish = [each for each in species if each['specie'] == s.title()]\n",
    "print(f\"{fish[0]['specie']}: {fish[0]['desc']}\\n\"\n",
    "      f\"{'Морская рыба' if fish[0]['sea'] else 'Пресноводная рыба'}\\n\"\n",
    "      f\"Промысловый размер: {fish[0]['len']} см\") if fish else print(\"Информация не найдена\")\n"
   ],
   "metadata": {
    "collapsed": false
   }
  },
  {
   "cell_type": "code",
   "execution_count": 12,
   "outputs": [
    {
     "name": "stdout",
     "output_type": "stream",
     "text": [
      "count 5\n",
      "specie Тунец\n",
      "avg_size 30\n",
      "count 15\n",
      "specie Окунь\n",
      "avg_size 25\n",
      "count 20\n",
      "specie Щука\n",
      "avg_size 46\n"
     ]
    }
   ],
   "source": [
    "# задание 11\n",
    "\n",
    "order = [\n",
    "    {\"skolko\": 5.0, \"poroda\": \"тунец\", \"sred_razmer\": 300},\n",
    "    {\"skolko\": 15.0, \"poroda\": \"окунь\", \"sred_razmer\": 250},\n",
    "    {\"skolko\": 20.0, \"poroda\": \"щука\", \"sred_razmer\": 460}, ]\n",
    "\n",
    "order_converted = []\n",
    "\n",
    "\n",
    "def int_(args):\n",
    "    return int(args)\n",
    "\n",
    "\n",
    "def title_(args):\n",
    "    return args.title()\n",
    "\n",
    "\n",
    "def dev10(args):\n",
    "    return int(args / 10)\n",
    "\n",
    "\n",
    "key_map = {'skolko': 'count', 'poroda': 'specie', 'sred_razmer': 'avg_size'}\n",
    "value_map = {'skolko': int_, 'poroda': title_, 'sred_razmer': dev10}\n",
    "\n",
    "for row in order:\n",
    "    row = dict((key_map[key], value_map[key](value)) for key, value in row.items())\n",
    "    order_converted.append(row)\n",
    "\n",
    "# Не удаляйте текст ниже, он нужен для проверки\n",
    "\n",
    "for item in order_converted:\n",
    "    for key, value in item.items():\n",
    "        print(key, value)\n"
   ],
   "metadata": {
    "collapsed": false
   }
  },
  {
   "cell_type": "code",
   "execution_count": 28,
   "outputs": [
    {
     "name": "stdout",
     "output_type": "stream",
     "text": [
      "192\n",
      "206\n",
      "420\n",
      "704\n"
     ]
    }
   ],
   "source": [
    "# задание 12\n",
    "\n",
    "ponds = [\n",
    "    {\"pk\": 1, \"volume\": 10000, \"fish\": \"тунец\"},\n",
    "    {\"pk\": 192, \"volume\": 20000, \"fish\": \"морская камбала\"},\n",
    "    {\"pk\": 206, \"volume\": 10000, \"fish\": \"треска\"},\n",
    "    {\"pk\": 322, \"volume\": 25000, \"fish\": \"тунец\"},\n",
    "    {\"pk\": 420, \"volume\": 20000, \"fish\": \"морская камбала\"},\n",
    "    {\"pk\": 704, \"volume\": 10000, \"fish\": \"треска\"},\n",
    "    {\"pk\": 920, \"volume\": 25000, \"fish\": \"тунец\"},\n",
    "]\n",
    "\n",
    "for row in ponds:\n",
    "    if row['fish'] == 'тунец':\n",
    "        ponds.remove(row)\n",
    "\n",
    "# Не удаляйте код ниже, это код проверки\n",
    "\n",
    "for pond in ponds:\n",
    "    print(pond[\"pk\"])"
   ],
   "metadata": {
    "collapsed": false
   }
  },
  {
   "cell_type": "code",
   "execution_count": 52,
   "outputs": [
    {
     "name": "stdout",
     "output_type": "stream",
     "text": [
      "Тунец sea\n"
     ]
    }
   ],
   "source": [
    "# задание 13\n",
    "\n",
    "fish = [\n",
    "\n",
    "    {\"specie\": \"Белуга\", \"water\": \"fresh\"},\n",
    "    {\"specie\": \"Карась\", \"water\": \"fresh\"},\n",
    "    {\"specie\": \"Красноперка\", \"water\": \"fresh\"},\n",
    "\n",
    "    {\"specie\": \"Морской окунь\", \"water\": \"sea\"},\n",
    "    {\"specie\": \"Тунец\", \"water\": \"sea\"},\n",
    "    {\"specie\": \"Скумбрия\", \"water\": \"sea\"},\n",
    "\n",
    "]\n",
    "\n",
    "\n",
    "def get_fish(fish_name_):\n",
    "    pair = [each for each in fish if each['specie'].lower() == fish_name_.lower()][0]\n",
    "    return pair['specie'], pair['water']\n",
    "\n",
    "\n",
    "# Не удаляйте код ниже, он нужен для проверки!\n",
    "\n",
    "fish_name = input()\n",
    "fish_, water_ = get_fish(fish_name)\n",
    "print(fish_, water_)"
   ],
   "metadata": {
    "collapsed": false
   }
  },
  {
   "cell_type": "code",
   "execution_count": null,
   "outputs": [],
   "source": [],
   "metadata": {
    "collapsed": false
   }
  }
 ],
 "metadata": {
  "kernelspec": {
   "display_name": "Python 3",
   "language": "python",
   "name": "python3"
  },
  "language_info": {
   "codemirror_mode": {
    "name": "ipython",
    "version": 2
   },
   "file_extension": ".py",
   "mimetype": "text/x-python",
   "name": "python",
   "nbconvert_exporter": "python",
   "pygments_lexer": "ipython2",
   "version": "2.7.6"
  }
 },
 "nbformat": 4,
 "nbformat_minor": 0
}
