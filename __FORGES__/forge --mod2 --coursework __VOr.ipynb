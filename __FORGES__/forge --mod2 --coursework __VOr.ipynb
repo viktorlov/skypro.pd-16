{
 "cells": [
  {
   "cell_type": "code",
   "execution_count": 131,
   "metadata": {
    "collapsed": true
   },
   "outputs": [
    {
     "name": "stdout",
     "output_type": "stream",
     "text": [
      "1\n",
      "0\n",
      "<Player>\n"
     ]
    }
   ],
   "source": [
    "# task classes 1\n",
    "\n",
    "class Player:\n",
    "\n",
    "    def __init__(self, name: str, score: int = 0):\n",
    "        self.name = name\n",
    "        self.score = score\n",
    "\n",
    "    def __repr__(self):\n",
    "        return \"<Player>\"\n",
    "\n",
    "    def score_up(self):\n",
    "        self.score += 1\n",
    "\n",
    "    def score_down(self):\n",
    "        self.score -= 1\n",
    "\n",
    "\n",
    "player_1 = Player(name=\"Player 1\")\n",
    "\n",
    "player_1.score_up()\n",
    "print(player_1.score)\n",
    "\n",
    "player_1.score_down()\n",
    "print(player_1.score)\n",
    "\n",
    "print(player_1)"
   ]
  },
  {
   "cell_type": "code",
   "execution_count": 132,
   "outputs": [
    {
     "name": "stdout",
     "output_type": "stream",
     "text": [
      "Нет такого слова\n"
     ]
    },
    {
     "data": {
      "text/plain": "['a']"
     },
     "execution_count": 132,
     "metadata": {},
     "output_type": "execute_result"
    }
   ],
   "source": [
    "# task classes 2\n",
    "\n",
    "class WordStorage:\n",
    "\n",
    "    def __init__(self, words: list = None):\n",
    "        if words is None:\n",
    "            words = []\n",
    "        self.words = words\n",
    "\n",
    "    def __repr__(self):\n",
    "        return \"<WordStorage>\"\n",
    "\n",
    "    def add_word(self, a_word: str):\n",
    "        self.words.append(a_word)\n",
    "\n",
    "    def remove_word(self, r_word: str):\n",
    "        try:\n",
    "            self.words.remove(r_word)\n",
    "        except ValueError:\n",
    "            print(\"Нет такого слова\")\n",
    "\n",
    "    def fetch_words(self):\n",
    "        pass\n",
    "\n",
    "\n",
    "word_1 = WordStorage()\n",
    "word_1.add_word('a')\n",
    "word_1.remove_word('b')\n",
    "word_1.words"
   ],
   "metadata": {
    "collapsed": false
   }
  },
  {
   "cell_type": "code",
   "execution_count": 133,
   "outputs": [
    {
     "name": "stdout",
     "output_type": "stream",
     "text": [
      "hello world\n",
      "{'e', 'o', 'h', 'd', 'l', ' ', 'r', 'w'}\n",
      "True\n",
      "False\n"
     ]
    }
   ],
   "source": [
    "# task classes 3\n",
    "\n",
    "class Word:\n",
    "\n",
    "    def __init__(self, value: str):\n",
    "        self.value = value\n",
    "\n",
    "    def __repr__(self):\n",
    "        return \"<Word>\"\n",
    "\n",
    "    def get_value(self):\n",
    "        return self.value\n",
    "\n",
    "    def set_value(self, value: str):\n",
    "        self.value = value\n",
    "\n",
    "    def get_letters(self):\n",
    "        return set([_ for _ in self.value])\n",
    "\n",
    "    def has_letter(self, letter: str):\n",
    "        return letter in self.value\n",
    "\n",
    "\n",
    "word = Word('hello world')\n",
    "print(word.get_value())\n",
    "print(word.get_letters())\n",
    "print(word.has_letter('e'))\n",
    "print(word.has_letter('е'))"
   ],
   "metadata": {
    "collapsed": false
   }
  },
  {
   "cell_type": "code",
   "execution_count": 134,
   "outputs": [
    {
     "name": "stdout",
     "output_type": "stream",
     "text": [
      "2540\n",
      "846.67\n"
     ]
    }
   ],
   "source": [
    "# task main loop 1\n",
    "\n",
    "\n",
    "class Player:\n",
    "    def __init__(self, name, score):\n",
    "        self.name = name\n",
    "        self.score = score\n",
    "\n",
    "    def get_score(self):\n",
    "        return self.score\n",
    "\n",
    "\n",
    "player_1 = Player(name=\"Alex\", score=700)\n",
    "player_2 = Player(name=\"Mary\", score=950)\n",
    "player_3 = Player(name=\"Ann\", score=890)\n",
    "\n",
    "players = [player_1, player_2, player_3]\n",
    "\n",
    "\n",
    "def total_score(arg: list):\n",
    "    return sum([_.get_score() for _ in arg])\n",
    "\n",
    "\n",
    "def avg_score(arg: list):\n",
    "    from numpy import mean\n",
    "    return mean([_.get_score() for _ in arg]).round(2)\n",
    "\n",
    "\n",
    "if __name__ == \"__main__\":\n",
    "    print(total_score(players))\n",
    "    print(avg_score(players))"
   ],
   "metadata": {
    "collapsed": false
   }
  },
  {
   "cell_type": "code",
   "execution_count": 135,
   "outputs": [
    {
     "name": "stdout",
     "output_type": "stream",
     "text": [
      "Mary\n",
      "Alex\n"
     ]
    }
   ],
   "source": [
    "# task main loop 2\n",
    "\n",
    "class Player:\n",
    "    def __init__(self, name, score):\n",
    "        self.name = name\n",
    "        self.score = score\n",
    "\n",
    "    def get_score(self):\n",
    "        return self.score\n",
    "\n",
    "\n",
    "player_1 = Player(name=\"Alex\", score=700)\n",
    "player_2 = Player(name=\"Mary\", score=950)\n",
    "player_3 = Player(name=\"Ann\", score=890)\n",
    "\n",
    "players = [player_1, player_2, player_3]\n",
    "\n",
    "\n",
    "def get_leader(arg: list):\n",
    "    return [_.name for _ in arg if _.score == (max([_.get_score() for _ in arg]))][0]\n",
    "\n",
    "\n",
    "def get_looser(arg: list):\n",
    "    return [_.name for _ in arg if _.score == (min([_.get_score() for _ in arg]))][0]\n",
    "\n",
    "\n",
    "if __name__ == \"__main__\":\n",
    "    print(get_leader(players))\n",
    "    print(get_looser(players))"
   ],
   "metadata": {
    "collapsed": false
   }
  },
  {
   "cell_type": "code",
   "execution_count": 136,
   "outputs": [
    {
     "name": "stdout",
     "output_type": "stream",
     "text": [
      "Mary\n",
      "Ann\n"
     ]
    }
   ],
   "source": [
    "# task main loop 3\n",
    "\n",
    "class Player:\n",
    "    def __init__(self, name, score):\n",
    "        self.name = name\n",
    "        self.score = score\n",
    "\n",
    "    def get_score(self):\n",
    "        return self.score\n",
    "\n",
    "\n",
    "player_1 = Player(name=\"Alex\", score=700)\n",
    "player_2 = Player(name=\"Mary\", score=950)\n",
    "player_3 = Player(name=\"Ann\", score=890)\n",
    "\n",
    "players = [player_1, player_2, player_3]\n",
    "\n",
    "\n",
    "def get_player_scored_over(arg1: int, arg2: list = players):\n",
    "    return [_.name for _ in arg2 if _.score >= arg1]\n",
    "\n",
    "\n",
    "if __name__ == \"__main__\":\n",
    "    print(*get_player_scored_over(800), sep='\\n')"
   ],
   "metadata": {
    "collapsed": false
   }
  },
  {
   "cell_type": "code",
   "execution_count": 137,
   "outputs": [
    {
     "name": "stdout",
     "output_type": "stream",
     "text": [
      "owl\n",
      "cat\n",
      "dog\n"
     ]
    }
   ],
   "source": [
    "# task load function 1\n",
    "\n",
    "class Word:\n",
    "\n",
    "    def __init__(self, value: str):\n",
    "        self.value = value\n",
    "\n",
    "    def __repr__(self):\n",
    "        return \"<Word>\"\n",
    "\n",
    "\n",
    "def load_words():\n",
    "    with open(\"words.txt\") as file_1:\n",
    "        temp_1 = file_1.readlines()\n",
    "    words_list = [x.strip() for x in temp_1]\n",
    "    return [Word(value=_) for _ in words_list]\n",
    "\n",
    "\n",
    "for each in load_words():\n",
    "    print(each.value)"
   ],
   "metadata": {
    "collapsed": false
   }
  },
  {
   "cell_type": "code",
   "execution_count": 138,
   "outputs": [
    {
     "name": "stdout",
     "output_type": "stream",
     "text": [
      "питон\n",
      "['тип', 'топ', 'тон']\n"
     ]
    }
   ],
   "source": [
    "# task load function 2\n",
    "\n",
    "class BasicWord:\n",
    "\n",
    "    def __init__(self, word: str, subwords: list):\n",
    "        self.word = word\n",
    "        self.subwords = subwords\n",
    "\n",
    "    def __repr__(self):\n",
    "        return \"<BasicWord>\"\n",
    "\n",
    "def load_word_and_sw():\n",
    "    import json\n",
    "    with open(\"data_2.json\", encoding=\"utf-8\") as file_2:\n",
    "        temp_2 = json.load(file_2)\n",
    "    element_2 = BasicWord(word = temp_2[\"word\"], subwords = temp_2[\"subwords\"])\n",
    "    return element_2\n",
    "\n",
    "print(load_word_and_sw().word, load_word_and_sw().subwords, sep='\\n')"
   ],
   "metadata": {
    "collapsed": false
   }
  },
  {
   "cell_type": "code",
   "execution_count": 139,
   "outputs": [
    {
     "name": "stdout",
     "output_type": "stream",
     "text": [
      "cat\n"
     ]
    }
   ],
   "source": [
    "# task load function 3\n",
    "\n",
    "class WordManager:\n",
    "\n",
    "    def __init__(self, words: list):\n",
    "        self.words = words\n",
    "\n",
    "    def __repr__(self):\n",
    "        return \"<WordManager>\"\n",
    "\n",
    "    def get_random_word(self):\n",
    "        from random import choice\n",
    "        return choice(self.words)\n",
    "\n",
    "def create_data_manager_from_json():\n",
    "    import json\n",
    "    with open(\"data_3.json\", encoding=\"utf-8\") as file_3:\n",
    "        temp_3 = json.load(file_3)\n",
    "    element_3 = WordManager(temp_3).get_random_word()\n",
    "    return element_3\n",
    "\n",
    "print(create_data_manager_from_json())"
   ],
   "metadata": {
    "collapsed": false
   }
  },
  {
   "cell_type": "code",
   "execution_count": 139,
   "outputs": [],
   "source": [],
   "metadata": {
    "collapsed": false
   }
  }
 ],
 "metadata": {
  "kernelspec": {
   "display_name": "Python 3",
   "language": "python",
   "name": "python3"
  },
  "language_info": {
   "codemirror_mode": {
    "name": "ipython",
    "version": 2
   },
   "file_extension": ".py",
   "mimetype": "text/x-python",
   "name": "python",
   "nbconvert_exporter": "python",
   "pygments_lexer": "ipython2",
   "version": "2.7.6"
  }
 },
 "nbformat": 4,
 "nbformat_minor": 0
}
