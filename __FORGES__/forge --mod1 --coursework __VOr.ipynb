{
 "cells": [
  {
   "cell_type": "code",
   "execution_count": 1,
   "id": "dc52f080",
   "metadata": {
    "ExecuteTime": {
     "end_time": "2022-10-23T17:32:22.601547Z",
     "start_time": "2022-10-23T17:32:22.584627Z"
    }
   },
   "outputs": [
    {
     "name": "stdout",
     "output_type": "stream",
     "text": [
      "3\n",
      "1\n"
     ]
    }
   ],
   "source": [
    "# **Задание 1 - подсчет количества**\n",
    "\n",
    "# Напишите функцию, которая получала бы список булек и возвращала бы количество True в полученном списке\n",
    "\n",
    "def count_for_true(elements):\n",
    "    return elements.count(True)\n",
    "\n",
    "\n",
    "print(count_for_true([True, True, True]))  # вернет 3\n",
    "print(count_for_true([False, True, False]))  # вернет 1"
   ]
  },
  {
   "cell_type": "code",
   "execution_count": 2,
   "id": "3f2e3fb0",
   "metadata": {
    "ExecuteTime": {
     "end_time": "2022-10-24T13:13:47.192383Z",
     "start_time": "2022-10-24T13:13:47.180385Z"
    }
   },
   "outputs": [
    {
     "name": "stdout",
     "output_type": "stream",
     "text": [
      "0.5\n",
      "0.0\n",
      "1.0\n"
     ]
    }
   ],
   "source": [
    "# **Задание 2 - расчет процента**\n",
    "\n",
    "# Напишите функцию, которая получала бы список элементов чисел и возвращала бы долю единиц в списке\n",
    "\n",
    "def count_for_ones(elements):\n",
    "    return sum([1 for x in elements if x == 1])/len(elements)\n",
    "\n",
    "\n",
    "print(count_for_ones([1, 1, 0, 0]))  # вернет 0.5\n",
    "print(count_for_ones([0, 0, 0, 0]))  # вернет 0.0\n",
    "print(count_for_ones([1, 1, 1, 1]))  # вернет 1"
   ]
  },
  {
   "cell_type": "code",
   "execution_count": 3,
   "id": "9aa5d870",
   "metadata": {
    "ExecuteTime": {
     "end_time": "2022-10-23T17:32:22.650946Z",
     "start_time": "2022-10-23T17:32:22.636031Z"
    }
   },
   "outputs": [
    {
     "name": "stdout",
     "output_type": "stream",
     "text": [
      "True\n",
      "True\n",
      "False\n",
      "False\n"
     ]
    }
   ],
   "source": [
    "# **Задание 3 - проверка строк**\n",
    "\n",
    "# Напишите функцию, которая проверяет, все ли элементы в списке начинаются с “а”\n",
    "\n",
    "def check_if_a_is_first(strings):\n",
    "    return sum([True for x in strings if str(x).lower().startswith('a')]) == len(strings)\n",
    "\n",
    "\n",
    "print(check_if_a_is_first([\"a\"]))  # вернет True\n",
    "print(check_if_a_is_first([\"a\", \"Aaa\", \"aloha\"]))  # вернет True\n",
    "print(check_if_a_is_first([\"a\", \"boo\", \"aloha\"]))  # вернет False\n",
    "print(check_if_a_is_first([\"b\", \"c\", \"d\"]))  # вернет False"
   ]
  },
  {
   "cell_type": "code",
   "execution_count": 4,
   "id": "3ad03ecc",
   "metadata": {
    "ExecuteTime": {
     "end_time": "2022-10-23T17:32:22.666567Z",
     "start_time": "2022-10-23T17:32:22.650946Z"
    }
   },
   "outputs": [
    {
     "name": "stdout",
     "output_type": "stream",
     "text": [
      "['A', 'B', 'C']\n"
     ]
    }
   ],
   "source": [
    "# **Задание 4**\n",
    "\n",
    "# Напишите функцию, которая получит список строк, а вернет список их первых букв\n",
    "\n",
    "def get_first_letters(strings):\n",
    "    return [x[0] for x in strings]\n",
    "\n",
    "\n",
    "print(get_first_letters([\"Alpha\", \"Bravo\", \"Charlie\"]))  # >>  [\"A\",\"B\",\"C\"]"
   ]
  },
  {
   "cell_type": "code",
   "execution_count": 5,
   "id": "c0612679",
   "metadata": {
    "ExecuteTime": {
     "end_time": "2022-10-23T17:32:22.683299Z",
     "start_time": "2022-10-23T17:32:22.667679Z"
    }
   },
   "outputs": [
    {
     "name": "stdout",
     "output_type": "stream",
     "text": [
      "[66, 95]\n"
     ]
    }
   ],
   "source": [
    "# **Задание 5 - случайные числа**\n",
    "\n",
    "# Напишите функцию, которая получит два случайных числа 1-100 и вернет их в виде списка\n",
    "\n",
    "def get_two_randoms():\n",
    "    import random\n",
    "    return [random.randint(1, 100), random.randint(1, 100)]\n",
    "\n",
    "\n",
    "print(get_two_randoms())"
   ]
  },
  {
   "cell_type": "code",
   "execution_count": 6,
   "id": "848f73f2",
   "metadata": {
    "ExecuteTime": {
     "end_time": "2022-10-23T17:32:22.699996Z",
     "start_time": "2022-10-23T17:32:22.684375Z"
    }
   },
   "outputs": [
    {
     "name": "stdout",
     "output_type": "stream",
     "text": [
      "{'min': 1, 'maх': 15, 'len': 4}\n"
     ]
    }
   ],
   "source": [
    "# **Задание 6 - создание словаря**\n",
    "\n",
    "# Напишите функцию, которая получит список и вернет словарь с указанием минимального и максимального числа\n",
    "# Испольуйте функции max, min, len\n",
    "\n",
    "def get_info_from_list(numbers):\n",
    "    return {\"min\": min(numbers), \"maх\": max(numbers), \"len\": len(numbers)}\n",
    "\n",
    "\n",
    "print(get_info_from_list([1, 5, 10, 15]))\n",
    "\n",
    "# вернет {\"min\": 1, \"max\": 10, \"len\": 4}"
   ]
  },
  {
   "cell_type": "code",
   "execution_count": 7,
   "id": "8f538a0f",
   "metadata": {
    "ExecuteTime": {
     "end_time": "2022-10-23T17:32:22.717670Z",
     "start_time": "2022-10-23T17:32:22.702051Z"
    }
   },
   "outputs": [
    {
     "name": "stdout",
     "output_type": "stream",
     "text": [
      "800\n"
     ]
    }
   ],
   "source": [
    "# **Задание 7 - перебор списка**\n",
    "\n",
    "# Напишите функцию, которая получит список покупок в виде словаря и вернет сумму\n",
    "\n",
    "def get_sum(purchases):\n",
    "    return sum(purchases.values())\n",
    "\n",
    "\n",
    "my_purchases = {\"cookies\": 400,\n",
    "                \"milk\": 200,\n",
    "                \"banana\": 100,\n",
    "                \"chocolate\": 100}\n",
    "\n",
    "print(get_sum(my_purchases))  # вернет 800"
   ]
  },
  {
   "cell_type": "code",
   "execution_count": 8,
   "id": "126cbce1",
   "metadata": {
    "ExecuteTime": {
     "end_time": "2022-10-23T17:32:22.734272Z",
     "start_time": "2022-10-23T17:32:22.718651Z"
    }
   },
   "outputs": [
    {
     "name": "stdout",
     "output_type": "stream",
     "text": [
      "{'min': 50, 'max': 400, 'sum': 750}\n"
     ]
    }
   ],
   "source": [
    "# **Задание 8 – анализ списка**\n",
    "\n",
    "# Напишите функцию, которая получит список покупок в виде словаря и вернет словарь, который будет содержать ключи:\n",
    "# `min` – минимальная покупка\n",
    "# `max` – максимальная покупка\n",
    "# `sum` – cумма покупок\n",
    "\n",
    "def purchase_stats(purchases):\n",
    "    return {'min': min(purchases.values()), 'max': max(purchases.values()), 'sum': sum(purchases.values())}\n",
    "\n",
    "\n",
    "# для тестирования\n",
    "\n",
    "my_purchases = {\"cookies\": 400,\n",
    "                \"milk\": 200,\n",
    "                \"banana\": 100,\n",
    "                \"chocolate\": 50}\n",
    "\n",
    "print(purchase_stats(my_purchases))\n",
    "\n",
    "# вернет {\"min\": 50, \"max\": 400, \"sum\": 750}"
   ]
  },
  {
   "cell_type": "code",
   "execution_count": 9,
   "id": "c73ffd77",
   "metadata": {
    "ExecuteTime": {
     "end_time": "2022-10-23T17:32:22.750836Z",
     "start_time": "2022-10-23T17:32:22.735215Z"
    }
   },
   "outputs": [
    {
     "name": "stdout",
     "output_type": "stream",
     "text": [
      "AE\n",
      "AJA\n"
     ]
    }
   ],
   "source": [
    "# **Задание 9 – кодирование**\n",
    "\n",
    "# Напишите функцию, которая закодирует число буквой\n",
    "\n",
    "nums_to_letter = {\"1\": \"A\",\n",
    "                  \"2\": \"B\",\n",
    "                  \"3\": \"C\",\n",
    "                  \"4\": \"D\",\n",
    "                  \"5\": \"E\",\n",
    "                  \"6\": \"F\",\n",
    "                  \"7\": \"G\",\n",
    "                  \"8\": \"H\",\n",
    "                  \"9\": \"I\",\n",
    "                  \"0\": \"J\", }\n",
    "\n",
    "\n",
    "def code_nums_to_letters(number):\n",
    "    return ''.join([nums_to_letter[x] for x in str(number)])\n",
    "\n",
    "\n",
    "print(code_nums_to_letters(15))  # >>> \"AE\"\n",
    "print(code_nums_to_letters(101))  # >>> \"AJA\""
   ]
  },
  {
   "cell_type": "code",
   "execution_count": 10,
   "id": "187197cf",
   "metadata": {
    "ExecuteTime": {
     "end_time": "2022-10-23T17:32:22.767565Z",
     "start_time": "2022-10-23T17:32:22.751945Z"
    }
   },
   "outputs": [
    {
     "name": "stdout",
     "output_type": "stream",
     "text": [
      "345\n",
      "9000\n"
     ]
    }
   ],
   "source": [
    "# **Задание 10** – раскодировать обратно\n",
    "\n",
    "# В функцию передается закодированное в прошлом задании строкой число.\n",
    "# Превратите его обратно в число, используя словарь letters_to_nums.\n",
    "# Обратите внимание, результат должен быть в виде `int`!\n",
    "\n",
    "letters_to_nums = {\"A\": \"1\",\n",
    "                   \"B\": \"2\",\n",
    "                   \"C\": \"3\",\n",
    "                   \"D\": \"4\",\n",
    "                   \"E\": \"5\",\n",
    "                   \"F\": \"6\",\n",
    "                   \"G\": \"7\",\n",
    "                   \"H\": \"8\",\n",
    "                   \"I\": \"9\",\n",
    "                   \"J\": \"0\", }\n",
    "\n",
    "\n",
    "def decode(encoded_number):\n",
    "    return int(''.join([letters_to_nums[x] for x in str(encoded_number)]))\n",
    "\n",
    "\n",
    "print(decode(\"CDE\"))  # вернет 345\n",
    "print(decode(\"IJJJ\"))  # вернет 9000"
   ]
  },
  {
   "cell_type": "code",
   "execution_count": 11,
   "id": "d29bfcb1",
   "metadata": {
    "ExecuteTime": {
     "end_time": "2022-10-23T17:32:22.784167Z",
     "start_time": "2022-10-23T17:32:22.768547Z"
    }
   },
   "outputs": [
    {
     "name": "stdout",
     "output_type": "stream",
     "text": [
      "['кот', 'хлеб', 'подумай']\n"
     ]
    }
   ],
   "source": [
    "# **Задание 11 – фильтр по упоминаниям**\n",
    "\n",
    "# У вас есть список слов в которых есть упоминания типа @cat.\n",
    "# Положите в список только эти слова, но без символа @\n",
    "\n",
    "\n",
    "def get_mentions(words):\n",
    "    return [x[1:] for x in words if x.startswith('@')]\n",
    "\n",
    "\n",
    "words = [\"@кот\", \"@хлеб\", \"не\", \"ешь\", \"@подумай\", \"теперь\", \"ешь\"]\n",
    "\n",
    "print(get_mentions(words))  # вернет [\"кот\", \"хлеб\", \"подумай\"]"
   ]
  },
  {
   "cell_type": "code",
   "execution_count": 12,
   "id": "1b22334f",
   "metadata": {
    "ExecuteTime": {
     "end_time": "2022-10-23T17:32:22.801480Z",
     "start_time": "2022-10-23T17:32:22.785860Z"
    },
    "run_control": {
     "marked": false
    }
   },
   "outputs": [
    {
     "name": "stdout",
     "output_type": "stream",
     "text": [
      "{'wordcount': 4, 'symbolcount': 15, 'spacecount': 3}\n"
     ]
    }
   ],
   "source": [
    "# **Задание 12 – статистика строки**\n",
    "\n",
    "# Напишите функцию, которая получит строку и вернет статистику в виде словаря с ключами:\n",
    "# `wordcount` – количество слов\n",
    "# `symbolcount` – количество символов\n",
    "# `spacecount` – количество пробелов\n",
    "\n",
    "\n",
    "def get_string_stats(string):\n",
    "    return {\"wordcount\": len(string.split()), \"symbolcount\": len(string), \"spacecount\": string.count(' ')}\n",
    "\n",
    "\n",
    "print(get_string_stats(\"Кот это не хлеб\"))\n",
    "\n",
    "# Вернет {\"wordcount\": 4, \"symbolcount\": 15, \"spacecount\": 3}"
   ]
  },
  {
   "cell_type": "code",
   "execution_count": 13,
   "id": "49b24fc3",
   "metadata": {
    "ExecuteTime": {
     "end_time": "2022-10-23T17:32:22.817668Z",
     "start_time": "2022-10-23T17:32:22.802049Z"
    }
   },
   "outputs": [
    {
     "name": "stdout",
     "output_type": "stream",
     "text": [
      "[101, 103, 105, 109]\n"
     ]
    }
   ],
   "source": [
    "# **Задание 13**\n",
    "\n",
    "# В списке содержится список чисел строго по возрастанию.\n",
    "# Соберите в отдельный список те, которые НЕ содержатся в исходном списке.\n",
    "\n",
    "\n",
    "def get_missed_between(numbers):\n",
    "    return [x for x in range(min(numbers), max(numbers)) if not x in numbers]\n",
    "\n",
    "\n",
    "numbers = [100, 102, 104, 106, 107, 108, 110]\n",
    "\n",
    "print(get_missed_between(numbers))  # вернет [101, 103, 105, 109]"
   ]
  },
  {
   "cell_type": "code",
   "execution_count": 13,
   "id": "ec3e404a",
   "metadata": {},
   "outputs": [],
   "source": []
  }
 ],
 "metadata": {
  "kernelspec": {
   "display_name": "Python 3 (ipykernel)",
   "language": "python",
   "name": "python3"
  },
  "language_info": {
   "codemirror_mode": {
    "name": "ipython",
    "version": 3
   },
   "file_extension": ".py",
   "mimetype": "text/x-python",
   "name": "python",
   "nbconvert_exporter": "python",
   "pygments_lexer": "ipython3",
   "version": "3.9.13"
  }
 },
 "nbformat": 4,
 "nbformat_minor": 5
}
