{
 "cells": [
  {
   "cell_type": "code",
   "execution_count": 3,
   "id": "42720f9a",
   "metadata": {
    "ExecuteTime": {
     "end_time": "2022-10-06T12:37:40.002431Z",
     "start_time": "2022-10-06T12:37:30.873635Z"
    }
   },
   "outputs": [
    {
     "name": "stdout",
     "output_type": "stream",
     "text": [
      "Привет! Предлагаю проверить свои знания английского!\n",
      "\n",
      "Расскажи, как тебя зовут!\n",
      "123\n",
      "\n",
      "Привет, 123, начинаем тренировку!\n",
      "\n",
      "My name ___  Vova\n",
      "is\n",
      "Ответ верный! \n",
      "Вы получаете 10 баллов!\n",
      "\n",
      "I ___ a coder\n",
      "am\n",
      "Ответ верный! \n",
      "Вы получаете 10 баллов!\n",
      "\n",
      "I live ___ Moscow\n",
      "in\n",
      "Ответ верный! \n",
      "Вы получаете 10 баллов!\n",
      "\n",
      "Вот и все, 123! \n",
      "Вы ответили на 3 вопросов из 3 верно.\n",
      "\n",
      "Вы заработали 30 баллов. Это 100 процентов.\n"
     ]
    }
   ],
   "source": [
    "questions = [\"My name ___  Vova\", \"I ___ a coder\", \"I live ___ Moscow\"]\n",
    "answers = [\"is\", \"am\", \"in\"]\n",
    "\n",
    "counter = 0\n",
    "total_questions = len(questions)\n",
    "\n",
    "print(\"Привет! Предлагаю проверить свои знания английского!\\n\")\n",
    "user_name = input(\"Расскажи, как тебя зовут!\\n\")\n",
    "print(f\"\\nПривет, {user_name}, начинаем тренировку!\")\n",
    "\n",
    "\n",
    "for each in range(total_questions):\n",
    "\n",
    "    print(f\"\\n{questions[each]}\")\n",
    "    user_answer = input()\n",
    "\n",
    "    if user_answer == answers[each]:\n",
    "        print(\"Ответ верный! \\nВы получаете 10 баллов!\")\n",
    "        counter += 1\n",
    "    else:\n",
    "        print(f\"Неправильно. \\nПравильный ответ: {answers[each]}\")\n",
    "\n",
    "# баллы\n",
    "scored = counter * 10\n",
    "\n",
    "# процент правильных ответов\n",
    "correct_answers_percent = 100 * counter / total_questions\n",
    "\n",
    "# выводим результаты пройденной тренировки\n",
    "print(f\"\\nВот и все, {user_name}! \\nВы ответили на {counter} вопросов из 3 верно.\\n\")\n",
    "print(f\"Вы заработали {scored} баллов. Это {correct_answers_percent:.0f} процентов.\")"
   ]
  },
  {
   "cell_type": "code",
   "execution_count": null,
   "id": "5ffd3fd1",
   "metadata": {},
   "outputs": [],
   "source": []
  },
  {
   "cell_type": "code",
   "execution_count": null,
   "id": "e2d84399",
   "metadata": {},
   "outputs": [],
   "source": []
  }
 ],
 "metadata": {
  "kernelspec": {
   "display_name": "Python 3 (ipykernel)",
   "language": "python",
   "name": "python3"
  },
  "language_info": {
   "codemirror_mode": {
    "name": "ipython",
    "version": 3
   },
   "file_extension": ".py",
   "mimetype": "text/x-python",
   "name": "python",
   "nbconvert_exporter": "python",
   "pygments_lexer": "ipython3",
   "version": "3.9.12"
  }
 },
 "nbformat": 4,
 "nbformat_minor": 5
}
